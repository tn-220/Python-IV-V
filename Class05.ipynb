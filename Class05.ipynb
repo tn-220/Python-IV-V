{
  "nbformat": 4,
  "nbformat_minor": 0,
  "metadata": {
    "colab": {
      "name": "Class05.ipynb",
      "provenance": [],
      "collapsed_sections": [],
      "include_colab_link": true
    },
    "kernelspec": {
      "name": "python3",
      "display_name": "Python 3"
    },
    "language_info": {
      "name": "python"
    }
  },
  "cells": [
    {
      "cell_type": "markdown",
      "metadata": {
        "id": "view-in-github",
        "colab_type": "text"
      },
      "source": [
        "<a href=\"https://colab.research.google.com/github/tn-220/Python-IV-V/blob/main/Class05.ipynb\" target=\"_parent\"><img src=\"https://colab.research.google.com/assets/colab-badge.svg\" alt=\"Open In Colab\"/></a>"
      ]
    },
    {
      "cell_type": "markdown",
      "source": [
        "#Error handeling in Python"
      ],
      "metadata": {
        "id": "7FosxcfFzjHY"
      }
    },
    {
      "cell_type": "markdown",
      "source": [
        "##Syntax error"
      ],
      "metadata": {
        "id": "64a6xgERz6J2"
      }
    },
    {
      "cell_type": "code",
      "source": [
        "None = 5"
      ],
      "metadata": {
        "id": "LY8a8Ir8z_6g"
      },
      "execution_count": null,
      "outputs": []
    },
    {
      "cell_type": "code",
      "source": [
        "def MyFunction:"
      ],
      "metadata": {
        "id": "XbdP3czh0jc4"
      },
      "execution_count": null,
      "outputs": []
    },
    {
      "cell_type": "code",
      "source": [
        "return"
      ],
      "metadata": {
        "id": "NGClsCRU0qVS"
      },
      "execution_count": null,
      "outputs": []
    },
    {
      "cell_type": "code",
      "source": [
        "x = 2;;\n"
      ],
      "metadata": {
        "id": "NxwWuWv-00mn"
      },
      "execution_count": null,
      "outputs": []
    },
    {
      "cell_type": "markdown",
      "source": [
        "##Name error"
      ],
      "metadata": {
        "id": "Whp-JSSM1E6L"
      }
    },
    {
      "cell_type": "code",
      "source": [
        "print(y)"
      ],
      "metadata": {
        "id": "bhiakhlo1HZm"
      },
      "execution_count": null,
      "outputs": []
    },
    {
      "cell_type": "markdown",
      "source": [
        "##Type error"
      ],
      "metadata": {
        "id": "uK3JdvVCfXDv"
      }
    },
    {
      "cell_type": "code",
      "source": [
        "print(len(6))"
      ],
      "metadata": {
        "id": "iGqsrcfY1TQS"
      },
      "execution_count": null,
      "outputs": []
    },
    {
      "cell_type": "code",
      "source": [
        "x = \"My String\" + 6"
      ],
      "metadata": {
        "id": "d14hACgy1jmw"
      },
      "execution_count": null,
      "outputs": []
    },
    {
      "cell_type": "markdown",
      "source": [
        "##Index error"
      ],
      "metadata": {
        "id": "hpv6Ed3510zy"
      }
    },
    {
      "cell_type": "code",
      "source": [
        "x = [1, 3, 6, 8]\n",
        "print(x[6])"
      ],
      "metadata": {
        "id": "jfP5fws613Nh"
      },
      "execution_count": null,
      "outputs": []
    },
    {
      "cell_type": "code",
      "source": [
        "x2 = (1, 3, 6, 8)\n",
        "print(x2[6])"
      ],
      "metadata": {
        "id": "wQ_eYuVt0tKW"
      },
      "execution_count": null,
      "outputs": []
    },
    {
      "cell_type": "markdown",
      "source": [
        "##Value error"
      ],
      "metadata": {
        "id": "Pepb67Kc2H0a"
      }
    },
    {
      "cell_type": "code",
      "source": [
        "print(int(\"5\"))"
      ],
      "metadata": {
        "id": "l49TxMbd2KJk"
      },
      "execution_count": null,
      "outputs": []
    },
    {
      "cell_type": "code",
      "source": [
        "print(int(\"hi\"))"
      ],
      "metadata": {
        "id": "luf0rTQh2Oqo"
      },
      "execution_count": null,
      "outputs": []
    },
    {
      "cell_type": "markdown",
      "source": [
        "##Key error"
      ],
      "metadata": {
        "id": "WgmGmD5i2dFx"
      }
    },
    {
      "cell_type": "code",
      "source": [
        "person = {\"name\": \"Pedro\", \n",
        "          \"Score\": 87}\n",
        "\n",
        "print(person[\"name\"])"
      ],
      "metadata": {
        "id": "pofm-Uf-2bqx"
      },
      "execution_count": null,
      "outputs": []
    },
    {
      "cell_type": "code",
      "source": [
        "print(person[\"family\"])"
      ],
      "metadata": {
        "id": "iBDldQPy27YS"
      },
      "execution_count": null,
      "outputs": []
    },
    {
      "cell_type": "markdown",
      "source": [
        "##Attribute Error"
      ],
      "metadata": {
        "id": "qLJnKa2r84L7"
      }
    },
    {
      "cell_type": "code",
      "source": [
        "X = 10\n",
        "X.append(6)"
      ],
      "metadata": {
        "id": "7vp8mlOL84L8"
      },
      "execution_count": null,
      "outputs": []
    },
    {
      "cell_type": "code",
      "source": [
        "string = \"Hello\".tst(\"Portuguese\")\n",
        "print(string)"
      ],
      "metadata": {
        "id": "5w0itlLm9myd"
      },
      "execution_count": null,
      "outputs": []
    },
    {
      "cell_type": "markdown",
      "source": [
        "##Raise an error"
      ],
      "metadata": {
        "id": "c6pR7-z4ZNVf"
      }
    },
    {
      "cell_type": "code",
      "source": [
        "raise   # ctrl+space"
      ],
      "metadata": {
        "id": "-IoVJczxZjW8"
      },
      "execution_count": null,
      "outputs": []
    },
    {
      "cell_type": "code",
      "source": [
        "raise IndexError('throw index error from my side')"
      ],
      "metadata": {
        "id": "fNY81fkybnXL"
      },
      "execution_count": null,
      "outputs": []
    },
    {
      "cell_type": "code",
      "source": [
        "def colorize(text, color):\n",
        "    colorSet = ('red', 'green', 'blue')\n",
        "    \n",
        "    if type(text) is not str:\n",
        "        raise TypeError(\"text must be a string\")\n",
        "    \n",
        "    elif color not in colorSet:\n",
        "        raise ValueError(color, \"is not in\", colorSet)\n",
        "    \n",
        "    else:\n",
        "        print(\"printed \", text, \" in \", color)"
      ],
      "metadata": {
        "id": "b75PTiHEdevd"
      },
      "execution_count": null,
      "outputs": []
    },
    {
      "cell_type": "code",
      "source": [
        "colorize()    #TypeError"
      ],
      "metadata": {
        "id": "s45xt98MeShb"
      },
      "execution_count": null,
      "outputs": []
    },
    {
      "cell_type": "code",
      "source": [
        "colorize()    #ValueError"
      ],
      "metadata": {
        "id": "ipYT_tJPdjqT"
      },
      "execution_count": null,
      "outputs": []
    },
    {
      "cell_type": "code",
      "source": [
        "colorize(\"Apple\", \"green\")"
      ],
      "metadata": {
        "id": "Nkn4Cu3RHf49"
      },
      "execution_count": null,
      "outputs": []
    },
    {
      "cell_type": "markdown",
      "source": [
        "##Exception Handling\n",
        "> Programs with no syntax errors could crash during the run-time. \n",
        "> Run-time errors (exceptions) need to be handled properly to avoid crash.\n",
        "> Exception handling controls the program flow when a run-time error is raised.\n"
      ],
      "metadata": {
        "id": "bUvLMiGvOWso"
      }
    },
    {
      "cell_type": "markdown",
      "source": [
        "##Some common run-time errors:\n",
        "\n",
        "* **ZeroDivisionError** : Raised when division by zero happens. \n",
        "* **IndexError** : Raised when index of a tuple, list, etc. is out of bounds. \n",
        "* **ValueError** : Raised when search fails on a tuple, list, etc.\n",
        "* **KeyError** : Raised when non-existing key is used to access a dictionary. \n"
      ],
      "metadata": {
        "id": "EBcBjEzsO5iA"
      }
    },
    {
      "cell_type": "markdown",
      "source": [
        "##Handle all exceptions:"
      ],
      "metadata": {
        "id": "edIMu2jdPo47"
      }
    },
    {
      "cell_type": "code",
      "source": [
        "try:\n",
        "  pass\n",
        "\n",
        "except:\n",
        "  pass"
      ],
      "metadata": {
        "id": "LbkiQm07QnUf"
      },
      "execution_count": null,
      "outputs": []
    },
    {
      "cell_type": "code",
      "source": [
        "print(myName)\n",
        "# try:\n",
        "#   print(myName)\n",
        "# except:\n",
        "#   print(\"An error occured\")"
      ],
      "metadata": {
        "id": "lTv_e0FmTv5e"
      },
      "execution_count": null,
      "outputs": []
    },
    {
      "cell_type": "code",
      "source": [
        "person = {\n",
        "    'name': 'Sara',\n",
        "    'family': 'Silva'\n",
        "}\n",
        "\n",
        "print(person['age'])"
      ],
      "metadata": {
        "id": "u5GX6pHSV8Nq"
      },
      "execution_count": null,
      "outputs": []
    },
    {
      "cell_type": "code",
      "source": [
        "def get(d, key):\n",
        "    return d[key]\n",
        "\n",
        "print(person['age'])"
      ],
      "metadata": {
        "id": "KtV8jfeMXOv0"
      },
      "execution_count": null,
      "outputs": []
    },
    {
      "cell_type": "code",
      "source": [
        "def get2(d, key):\n",
        "    try:\n",
        "        return d[key]\n",
        "    except:\n",
        "        return 'no key found error'\n",
        "\n",
        "print(get2(person,'age'))"
      ],
      "metadata": {
        "id": "5RjqH2RyXv0b"
      },
      "execution_count": null,
      "outputs": []
    },
    {
      "cell_type": "markdown",
      "source": [
        "##Handle a specific exception:"
      ],
      "metadata": {
        "id": "4x7SxIzBQZlp"
      }
    },
    {
      "cell_type": "code",
      "source": [
        "Handle a specific exception:\n",
        "try:\n",
        "  pass\n",
        "except <Error name>:\n",
        "  pass"
      ],
      "metadata": {
        "id": "t_PtX0GSQsm4"
      },
      "execution_count": null,
      "outputs": []
    },
    {
      "cell_type": "code",
      "source": [
        "def get3(d, key):\n",
        "    try:\n",
        "        return d[key]\n",
        "    except KeyError:\n",
        "        return \"no key found\"\n",
        "    # except IndexError:\n",
        "    #     return \"index error\"\n",
        "\n",
        "print(get3(person,'age'))"
      ],
      "metadata": {
        "id": "IGWqkMV_Ye02"
      },
      "execution_count": null,
      "outputs": []
    },
    {
      "cell_type": "markdown",
      "source": [
        "Write code that asks the user to enter a number in a range. Then, using the error handling mechanism, check if the input is not numeric, display the appropriate message for this error. Also show appropriate error message if input is numeric but not in valid range"
      ],
      "metadata": {
        "id": "TuV_dsduaRXj"
      }
    },
    {
      "cell_type": "code",
      "source": [],
      "metadata": {
        "id": "m-5CA3PfZ4L7"
      },
      "execution_count": null,
      "outputs": []
    },
    {
      "cell_type": "code",
      "source": [
        "Handle a specific exception:\n",
        "try:\n",
        "  pass\n",
        "except <Error name> as <Error variable>:\t\t\t# Error variable defined. \n",
        "  pass"
      ],
      "metadata": {
        "id": "75-VwFbzY2cc"
      },
      "execution_count": null,
      "outputs": []
    },
    {
      "cell_type": "markdown",
      "source": [
        "##Exception handling with else and finally:"
      ],
      "metadata": {
        "id": "tTiptIyjQ4jJ"
      }
    },
    {
      "cell_type": "code",
      "execution_count": null,
      "metadata": {
        "id": "M8AGD_V0OHWv"
      },
      "outputs": [],
      "source": [
        "try:\n",
        "     <Code block where an exception may happen>\n",
        "\n",
        "except:\n",
        "     <Code block to run when an exception happens>\n",
        "\n",
        "else:\t\t\t\t\t\t\n",
        "     <Code block to run when there is no exception>\n",
        "\n",
        "finally:\n",
        "     <Whether exception happens or not, run this code block>\n"
      ]
    },
    {
      "cell_type": "code",
      "source": [
        "# Exception handling with else and finally:\n",
        "\n",
        "x = int(input())\n",
        "\n",
        "try:\n",
        "  result = 123/x\t\t\t# An exception can happen when x is 0.\n",
        "\n",
        "except ZeroDivisionError as err:\n",
        "  print(err)\n",
        "  print(\"Do not divide by 0\")     \n",
        "\n",
        "else:\n",
        "  print(\"result = \" ,result)\n",
        "\n",
        "finally:\n",
        "  print('The End')\n"
      ],
      "metadata": {
        "id": "arp20BiBRHyJ"
      },
      "execution_count": null,
      "outputs": []
    },
    {
      "cell_type": "code",
      "source": [
        "#Exception handling with else and finally:\n",
        "\n",
        "x = input()\n",
        "\n",
        "try:\n",
        "  result = x.index(\"a\")\t\t\t# An exception can happen if 1234 is not found in x.\n",
        "except ValueError as err:\n",
        "  print(\"This is handelled by me\")\n",
        "  print(err)     \n",
        "else:\t\t\t\t\t\t\n",
        "  print(result)\n",
        "finally:\n",
        "  print('The End')\n"
      ],
      "metadata": {
        "id": "H0rQMuHHU-v7"
      },
      "execution_count": null,
      "outputs": []
    },
    {
      "cell_type": "code",
      "source": [
        "#import pdb\n",
        "#pdb.set_trace()\n",
        "\n",
        "x = int(input(\"please enter your first number: \"))\n",
        "y = int(input(\"please enter your second number: \"))"
      ],
      "metadata": {
        "id": "XlTuKQbwlo9U"
      },
      "execution_count": null,
      "outputs": []
    },
    {
      "cell_type": "markdown",
      "source": [
        "Write a piece of code that accepts numeric input. Using While and error handling mechanism, the code continues to execute until the user provides the correct input. Finally, display a thank you message when the input is correct"
      ],
      "metadata": {
        "id": "Kylp79Hsddct"
      }
    },
    {
      "cell_type": "code",
      "source": [],
      "metadata": {
        "id": "Gjm_IeoPeIS3"
      },
      "execution_count": null,
      "outputs": []
    },
    {
      "cell_type": "markdown",
      "source": [
        "#Algorithms\n",
        "\n",
        "> It is a set of procedures and rules for problem solving (implemented in a programming language).\n",
        "\n",
        "> Each step of an algorithm should be concise and clear.\n",
        "\n"
      ],
      "metadata": {
        "id": "2qvji7IlVr6p"
      }
    },
    {
      "cell_type": "markdown",
      "source": [
        "> Algorithm to repair a failing light bulb:\n",
        "\n",
        "\n",
        "![image.png](data:image/png;base64,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)\n"
      ],
      "metadata": {
        "id": "x_2NY4dybTZb"
      }
    },
    {
      "cell_type": "markdown",
      "source": [
        "###Algorithm Example #1: Calculate the absolute value 𝑥.\n",
        "\n",
        "> 1). Check whether 𝑥 is positive or negative.\n",
        "\n",
        "> 2). If 𝑥 is a positive number, return 𝑥.\n",
        "\n",
        "> 3). On the contrary, if 𝑥 is a negative number, return –𝑥.\n"
      ],
      "metadata": {
        "id": "dAJGFM2xbmrE"
      }
    },
    {
      "cell_type": "code",
      "source": [
        "def ABS(x):\n",
        "\n",
        "  if x >= 0: \n",
        "    result = x\n",
        "  else:\n",
        "    result = -1 * x\n",
        "  \n",
        "  return result"
      ],
      "metadata": {
        "id": "vG6nRoj3c3Wg"
      },
      "execution_count": null,
      "outputs": []
    },
    {
      "cell_type": "code",
      "source": [
        "ABS(-21.45)"
      ],
      "metadata": {
        "id": "ABABoi1YdBC9"
      },
      "execution_count": null,
      "outputs": []
    },
    {
      "cell_type": "code",
      "source": [
        "ABS(94.65)"
      ],
      "metadata": {
        "id": "qYQB-bz9U-zW"
      },
      "execution_count": null,
      "outputs": []
    },
    {
      "cell_type": "markdown",
      "source": [
        "###Algorithm Example #2: Find the maximum value from a list.\n",
        "\n",
        "> 1). Iterate through the list and get each value in a sequence.\n",
        "\n",
        "> 2). Store the first value as the temporary maximum. \n",
        "\n",
        "> 3). From the second value and on, compare it with the temporary maximum. \n",
        "\n",
        ">> If the value is larger than the stored one, then this becomes the new temporary maximum.\n",
        "\n",
        "> 4). The temporary maximum that remains at the end is the maximum of the list.\n"
      ],
      "metadata": {
        "id": "jhZr1qVPdnYl"
      }
    },
    {
      "cell_type": "code",
      "source": [
        "def MAX(x):\n",
        "  n = len(x)\n",
        "  my_max = x[0]\t            # First value stored as temporary maximum.\n",
        "  \n",
        "  for i in range(1, n):\n",
        "    if x[i] > my_max:\t\t\t  # If the value is larger than the stored maximum,\n",
        "      my_max = x[i]\t\t\t    # replace the temporary maximum.\n",
        "  \n",
        "  return my_max            \t# Return the temporary maximum."
      ],
      "metadata": {
        "id": "XGlzJHFeerAk"
      },
      "execution_count": null,
      "outputs": []
    },
    {
      "cell_type": "code",
      "source": [
        "a = [ 999, 131, -542, 1022, 1021, 45, 77]\n",
        "print(MAX(a))"
      ],
      "metadata": {
        "id": "VPoRQD64imHA"
      },
      "execution_count": null,
      "outputs": []
    },
    {
      "cell_type": "markdown",
      "source": [
        "###Algorithm Example #3: Find repetitions in a list.\n",
        "\n",
        "> 1). Iterate through the list and get each item in a sequence.\n",
        "\n",
        "> 2). At each step, compare the item with the succeeding ones. \n",
        "\n",
        ">> If repetition is detected, store it in a set.\n",
        "\n",
        "> 3). Continue until the penultimate item in the last.\n",
        "\n",
        "> 4). Output the set. \n"
      ],
      "metadata": {
        "id": "9tfvvTldixYm"
      }
    },
    {
      "cell_type": "code",
      "source": [
        "def FIND_SAME(x):\n",
        "  n = len(x)\n",
        "  result = set()                     \t# A set that will contain the result.\n",
        "  \n",
        "  for i in range(0, n-1):            \t# Iterate from 0 to n-2. n-2 is the second index from the last.\n",
        "    for j in range(i + 1, n):      \t# Iterate from i+1 to n-1. n-1 is the last index.\n",
        "      if x[i] == x[j]:           \t# When repetition is detected,\n",
        "        result.add(x[i])       \t# add it to the result set.\n",
        "\n",
        "  return list(result)\n"
      ],
      "metadata": {
        "id": "7H1kaWfeiscQ"
      },
      "execution_count": null,
      "outputs": []
    },
    {
      "cell_type": "code",
      "source": [
        "a = ['Tom', 'Jerry', 'Mike', 'Sara', 'Tom', 'Sara', 'John']\n",
        "FIND_SAME(a)"
      ],
      "metadata": {
        "id": "yOTRvpZOkprE"
      },
      "execution_count": null,
      "outputs": []
    },
    {
      "cell_type": "code",
      "source": [
        "b = [1,1,1,2,3,4,2,3,5,6,7,8,9,4]\n",
        "FIND_SAME(b) "
      ],
      "metadata": {
        "id": "LXu-DvSck3yM"
      },
      "execution_count": null,
      "outputs": []
    },
    {
      "cell_type": "markdown",
      "source": [
        "###Algorithm Example #4: Find repetitions in a list (using dictionary).\n",
        "\n",
        "> 1). Create an empty dictionary.\n",
        "\n",
        "> 2). Iterate through the list and get each item in a sequence. \n",
        "\n",
        ">> If the extracted item is not in the dictionary as a key, then create a pair using this item as key and 1 as value.\n",
        "\n",
        ">> IF the extracted item is already in the dictionary as a key, increase the corresponding value by 1. \n",
        "\n",
        "> 3). Output those keys for which values are equal or larger than 2.\n"
      ],
      "metadata": {
        "id": "DVpY8qnzlRoL"
      }
    },
    {
      "cell_type": "code",
      "source": [
        "def FIND_SAME_DICT(x):\n",
        "  my_dict = {}\t\t\t# An empty dictionary.\n",
        "  \n",
        "  for name in x:\t\t\t# Loop though the items in a list.\n",
        "    if name in my_dict:\t\t# If the item is already included in the dictionary as key,\n",
        "      my_dict[name] += 1\t\t# increase the corresponding value by 1. \n",
        "    else:                                      \n",
        "      my_dict[name] = 1\t\t# Include the item as a new key with value equal to 1.\n",
        "\n",
        "  print(my_dict)\n",
        "  \n",
        "  result = []\n",
        "  \n",
        "  for name in my_dict:\n",
        "    if my_dict[name] >= 2:\t\t# If the value is equal or lager than 2,\n",
        "      result.append(name)\t\t# append to the result list.\n",
        "  \n",
        "  return result"
      ],
      "metadata": {
        "id": "77a8IItsnLTk"
      },
      "execution_count": null,
      "outputs": []
    },
    {
      "cell_type": "code",
      "source": [
        "a = ['Tom', 'Jerry', 'Mike', 'Sara', 'Tom', 'Sara', 'John']\n",
        "FIND_SAME_DICT(a)"
      ],
      "metadata": {
        "id": "LtNHsgfUngwK"
      },
      "execution_count": null,
      "outputs": []
    },
    {
      "cell_type": "markdown",
      "source": [
        "###Algorithm Example #5: Binary search in a sorted list.\n",
        "> 1). Initially set the search range with the lower bound = 0 and the upper bound = the list length. \n",
        "\n",
        "> 2). Get the middle value from the search range and compare it with the searched value.\n",
        "\n",
        ">> If they match, return the position and end the search.\n",
        "\n",
        ">> If the searched value is larger than the middle value, set this middle value as the new lower bound of the search range.\n",
        "\n",
        ">> If the searched value is smaller than the middle value, set this middle value as the new upper bound of the search range.\n",
        "\n",
        "> 3) Repeat from the step 2.\n"
      ],
      "metadata": {
        "id": "7iCjXOfiol8l"
      }
    },
    {
      "cell_type": "code",
      "source": [
        "def binary_search(a, x):\n",
        "  # left and right defines the lower and the upper bounds of the search range.\n",
        "  left = 0                       \n",
        "  right = len(a) - 1\n",
        "  \n",
        "  while left <= right:\t\t# Continue while not converged.\n",
        "    mid = (left + right)//2\t\t# Get the middle index. Floor division.\n",
        "    if x == a[mid]:\t\t# If the match is found, exit the function.\n",
        "      return mid\n",
        "    elif x > a[mid]:\t\t# The searched value is larger than the middle value.\n",
        "      left = mid + 1\n",
        "    else:\t\t\t# The searched value is smaller than the middle value.\n",
        "      right = mid - 1\n",
        "  \n",
        "  return -1\t\t\t# When the search was not successful, return -1 instead."
      ],
      "metadata": {
        "id": "zoAYrmuyong3"
      },
      "execution_count": null,
      "outputs": []
    },
    {
      "cell_type": "code",
      "source": [
        "binary_search([1,4,9,16,25,36,49,64], 36)"
      ],
      "metadata": {
        "id": "YLf-W96cpfU2"
      },
      "execution_count": null,
      "outputs": []
    },
    {
      "cell_type": "code",
      "source": [
        "x = input()\n",
        "for i in x:\n",
        "  print(i, \" is a letter :\", i.isalpha())\n"
      ],
      "metadata": {
        "id": "2WznyFyRH3YQ"
      },
      "execution_count": null,
      "outputs": []
    },
    {
      "cell_type": "markdown",
      "source": [
        "**Follow practice steps on 'ex_0109.ipynb'**"
      ],
      "metadata": {
        "id": "u65wrECFqBol"
      }
    },
    {
      "cell_type": "markdown",
      "source": [
        "#Data Structures"
      ],
      "metadata": {
        "id": "0J_2kQ5Uqxa7"
      }
    },
    {
      "cell_type": "markdown",
      "source": [
        "##Stack and Queue:\n",
        "\n",
        "> In a stack, the last value in is the first value out (LIFO).\n",
        "\n",
        "> In a queue, the first value in is the first value out (FIFO)."
      ],
      "metadata": {
        "id": "jOo9gPTqqyfq"
      }
    },
    {
      "cell_type": "markdown",
      "source": [
        "![image.png](data:image/png;base64,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)"
      ],
      "metadata": {
        "id": "uBcmXbW5q-5V"
      }
    },
    {
      "cell_type": "markdown",
      "source": [
        "You can implement stack and queue data structures with Python list.\n",
        "![image.png](data:image/png;base64,iVBORw0KGgoAAAANSUhEUgAABLkAAAFnCAYAAABKN5s1AAAgAElEQVR4nOzdT2wb550//rd/KDw6LFkXO8bXLQusxIuHl1A9dJwFSFheCthYOlT0RdwLJQNhmsIEmoiHhr6IuZibg5gWSyGpFEAWL6Uupr4H0VmA2sSggNTMoeIeluyhlAtkGhceoC5ZoB4BC34P85sRh/8lUaZov1+AIJF85plnhqPhzIfP83ku1Ov1OoiIiIiIiIiIiEbY/zfsBhAREREREREREZ0Wg1xERERERERERDTyGOQiIiIiIiIiIqKRxyAXERERERERERGNPAa5iIiIiIiIiIho5DHIRUREREREREREI49BLiIiIiIiIiIiGnkMchERERERERER0chjkIuIiIiIiIiIiEYeg1xERERERERERDTyGOQiIiIiIiIiIqKRxyAXERERERERERGNPAa5iIiIiIiIiIho5DHIRUREREREREREI49BLiIiIiIiIiIiGnkMchERERERERER0chjkIuIiIiIiIiIiEYeg1xERERERERERDTyGOQiIiIiIiIiIqKRxyAXERERERERERGNPAa5iIiIiIiIiIho5DHIRUREREREREREI+87w24AUbPvfe97AIDx8XFcunRpyK0hGoxyuYxLly7hypUrw24KvQKePn2K58+fQ5KkYTeFXnNffvklpqamht0MIiJ6TTx58gRjY2P43e9+h7GxsWE3h84hBrno3BkfHwcALCwsYHJycsitIRqMjz76CG63G2+99dawm0KvgM8//xzFYhG/+MUvht0Ues19+eWXWF5eHnYziIjoNXH//n185zvfYYCLOmKQi84do/fW5OQkvx2mV8bm5iYkSeIxTQPx5MkT/PnPf+bxROcCj0MiInpZvvzyy2E3gc455uQiIiIiIiIiIqKRxyAXERERERERERGNPAa5iIiIiIiIiIho5DHIRUREREREREREI49BLiIiIiIiIiIiGnkMchERERERERER0chjkIuIiIiIiIiIiEYeg1xEREREzZ4/B375S+Dp02G3hIjOo3IZiMWAFy+G3RIiImrwnWE3gGhk/PKX+k2PQZKA8XHgzTeH16ZGL14A9+8Djx/r7bx+HVhcBC5dGnbL6FX24gXw7/+u//3BB8DY2GDqffIEuH0bWFjQj2Oidp4+Bba3gWJRPxavXQPm5oArV05f9/4+8P77+jmUxyDR6IjF2j8/NwdMTg5uPb/9LfDhh/r5YXx8cPWe1vY28KtfAR9/PNjtJSIaEQxyEfXr/ff1i5jxcf3GqlzWn3/zTWBjQw96naROt/v0N1DPnwM/+pHeLiPo9uGHwH/+J/Dw4eDXdxLDXDedne1t/VgD9P+BQOD4dTQGyRr99rfAT35yuvbRq+vzz4F/+zf9/Pfmm3qANZ0GolHgq69Odk4motH25In+mSRJrcHu8/Kl5CD927/pXwa99dbRcy9e6J+f7GFGRK8pBrmIjmNhwfoNoXGT9aMfAQcHx+89sL2t36CdNvBz/75+YffVV0cXcc+f6z0RzmJ9JzHMddPZ2drSj7knT4DNzZMFuf7zP/XfjUGu8XHg738fTBvp1bO/D9y8qfdSePjw6Nz7/Dnw0Ud6wJ9BLqLX1y9+8Xpcb6TTwNWr1iBXIHCyz2IiolcEg1xEp/HWW8AXX+hBrvffB37zm6PXnj/Xg2Dlst7DYG7u6KbLyPViBKJiMb3Me+/pv7st287vf6//bixz6RIwNdV7fcYwx3ff1V/7/HN9uakpvfz9+63DHn/7Wz2o0XwRVS4DX36p32A21tFr3b3qN9rRro2GJ0/0543ebI0XfHQ2jON0eRn44x/19+jp0/bB3idP9GPjyRM9MDE3p7//v/yl/hxwdGy8+67++9NP9WOgsb6nT/V6ymX9+bfesg4TMY6pQED/e3tbX2bQw1RouD78UD9GGgNcgH4eicetZV+80I+Z3/5Wf/zWW+17dDx9enQO6Xb+aKxvfFwvO4jhkUR09ozPnbfesn4m/Pa3+ufK4uLRMOh339WfS6f1c8tbb/UOnjdei1y6pH/2NH5GNde9vX10ndc85LFbXU+e6J91APDokf75eeWKXu/Tp3qbjc9SQ+M1miTp29N47XWcthERnWd1onNmamqqPjU1Vf/iiy+G3RQroF5fXm7/2ltv1etjY0ePv/pKf3zlSr0+NVWvS5J1+a++0h83/oyN1evfftt72Xbi8e5luq3viy/0xx9/fPTa4qK+nPFa83uxuFivj49bnzOWv3KlXp+c1P9+773+1t2r/m5trNfr9U8+0et88019nxl//+UvnffZS7a4uFjf2NgYdjMG65NP9PfCOG6N96jZb36jvyeXLunvC1Cvz83V6wcHrccGUK//7ndHrzXusy++0OsAjt7nsTG9HQZjuY8/1o+hK1eOlvnNb85+n7wkGxsb9cXG/4HXyd//rr+fgUDvsgcHR+ejyUn9eGg+f9Tr9XqppB8vwNHvubnWY9Cob3xcPwbHx/XjK5MZ7DaOEF5K0rnS7rOj0d//fnQu+Pvf9ee+/Vb/LHn3Xf3xxoZeh3FtZZxDxsbq9YcPj+oyyh0c6I9/85ujc4hxfmhui7HMxoZen3GNd+mSfh4y9KrLqKfx59Kl9u2q1+v1Dz44KmN8Dl+5on92H7dtREO2vLxcX+52X0SvPc6uSDQIkqR/O2j0SLl0Se/V9e23ek+vUkn/xuyjj/TX33xTvyQZH9e/NazX9aFZV670Xrad997T2/Dhh3qvsu1t6+vd1meIRoFMRn9tY+N4228kaF5c1Nv9u9/pP9/9bn/r7le7Nj59qq/7vff04ZpffKGv20gIS2dnc1PvTXfliv4+j4/rwxcbPX2qJ5CfmtKPja++0of2Gvnt6vWjXnnGpXq7HlcvXuhDgycngb/8RX+f//IXfbn33z/KkWd4/319uMq33+rrkyT9+KHRZ5xnr17tXfb99/VjsFTSzwvffgt88oneA8LoBQHox8aLF/qxcnCgH6dfftm+vhcv9LqM8/PkJPCznzH/DdF58n//r967yfhJp/Xnx8b0hOxPnx59JvzsZ+17gf7610fnjr/8Rf+s+9nPOq9zfFw/LxwcWM8P7a7f3n//qMzvfqefPxrL9arLuJ4C9N7U9brexna2t/Xcl++9p5cxPofHxvTP5+ZzV6+2ERGdcwxyEQ3Cd7+r/zammpckvXt3o2vX9AuFXtPRn2TZsTH9QmR5Wb8B9PuBf/7n1hv/bt59t3W9/drc1H///OdHz01Odp7h6KTatfH+fX37l5ePnpMkff3tblJpMJ480QOJ8/NHzwUCR0M+DOm0fuz+9KdHwybGx/WbjONIp/Xj/+OPj4ZXjI3pAYsXL45uYAzxuH68AHr5+Xm9zQxEjD4jyNVr+MyTJ/rN3c9/bh1i9O67+rK//rX+2Bii89OfHtVpTCjSyCj3859bj8H5eetkJEQ0fOWyPozP+Hn8+Oi1qSk9SPTpp3rwZ3vb+tliaJxU6NIl/RxhfPa18+ab1jQKY2P6tUi7z52HD4+GTU9O6n83nkOOU1cvm5t6gK4xiDc+rl83lcut29OrbURE5xxzchENwp//rP9uvJF6/ly/8f7jH49yTAH9XaCcZNmxMT2o9N57er6JDz/UEzOXStacDJ243b3LdGLkizjrnEft2lgs6vvl5s3WNvWz3XQyRi+YxqDjT36i3zBsbh5dTBv/G40X6ydh5J1rPsbGx/Vj749/tD7fqafg06fMLTLqjPfWOC92YtyUtTsvNQbBjXqayzXf8BoTefz619Yei8+fW38T0fD1Sjwfj+v5rqJRvbd8u0TtzZ8VRuDnyZPOMzUa+bD++Ef9nGHkVm3W7jOq+YvMfuvqpVzWr0+blzXOec3n0n7aRkR0jjHIRTQIX355NNQQ0C9GbtzQn5ufB65f15/vdVN22mUBvQ1GD6oPP9Qv4k7aQ8vQKzD3/HnrDeEg6++17JUr1p5chtO0ibozbvK///3W1+7fPwpyGTf+p30v2AOLDMaXCUbgsxPjmGl3Uzg2dvR8t3Lt6ltYaB8463TTS0TnW78B6l7nis8/13vST04C//qv+vXb8+cnC4APsq7nzzk5BhG9VhjkIjqt7W39W7IPPjh67le/OhpCaFwMxWKtw+eMmRQb9btsL8YNV2NwoN36ujECE83f4DUHHCRJvyB78aLzxV+7dfdbfzfj4/q633yTPbdeFmNI4vJyaw+trS19CMiXX+qv/Z//oz9vfJPczthY72+J/+mf2tfz5Il+XPWTn4leDcawHWPmzE43b0YvjHK59Tjd3z8KVBnLl8vWWRXbneeM9Z+2ZyIRDZeRj+uTT/Q8W59+ejTE3dB8zWL05uzUG/ijj/TzxFdfHT33xz+eLHVCv3WNjQF//Wv3uiSp/XBDY3t6zRhJRDRimJOL6KSeP9cvim7fbu1JZHzbZtwkPX+u54RoduVK64VHv8s2un3bWs+LF/qQmrExa++CduvrZnxcr6NxaM79+635j4zeZo2J3p8+1YeudVt3v/V385Of6NvbuC5Dv73f6Hi2tvT37b33jpLGGz+/+IVexsjTZvQibDw2nj+35mvr57gMBPR1Nk8mEI3qz3cblkKvHiMX282b1v/zJ0/0G9Z0Wg9iTU7qXxw0BlE//VQ/3n76U/2xJB3l6DLOu0Y9jYxcf7/6VevNL881RKPjyy+Pehy/+67+2RWNtn7Z4vcf/W8/f65/rhnnlXaae1o9fdo5f1cv/dbVz+fnT36iL//pp9b6P/roKOcWEdErhEEuouP48EPgwgX953vf02+C5uasva4AfTjLixd68vfbt/UZD9v1TvrJT/SLk4kJvczTp/0v2+jJE8Dl0sveuKHXZyRSbfzGsd36url0Sb8A/PxzvbzLpV8INg9/nJvTf/793/V237ihD2NrHE7Ubt391t/N1JQebDFmlrxxQ//53vess6fRYBhJ3qem2g9BHB/XL5iNhPOTk/r7k04fvT/f/741cGsEKr//ff346XQhH4/r9UxM6PW4XPpx/sknHIrxujESwxvnlO9/X/8xzn3GTagxi5rLpR8z//zP+nm7eRKLePyorhs39GO13XmouT7jOHS5Xs52E1F/bt8+ul4zfj79VP+suX1bP4cYX458/LH+/PvvW+sYH7d+3jx50n3SFGOCkx/96Oj67aRD9futa25Ov4YyrgHbee89vdzPfnb0Oexy6YGu486mTUQ0AjhckahfGxvWWb3Gx/UbqU4XHV98cdSt/JNP9LKffmq9GX/vvaOhWmNjel39Ltvo4UP95t9o3/Xr+sVbc5f6duuTJL0XWqdv8j7+WB8KZgSlAoH2swtlMnobjcDZT39qTeTabt391t9PG//1X63LLCy0TyRLp2PMlNgtEBmP68evMXz144/1GUKNb5ub35u5OeA3vzl63Rg6sbxs/cb8vff04WSNU8EHAtbj/NKl1uWAo2FoDIa9OhYX9WDr55+3zmxrfOkwNaVPvpFOH/WK+Pjj1nNJIKAfG8Z5Nx7Xy3z3u9ayRn2NPSKM45CIhs+YvbddaobJSf36ovkzaHLyKGjeaGNDH9K3v9/+umpyUv+8Ma5nPvhAPwcZwwAzGf380DjEsHkZw09/am1zP3UB+rnqn/7Jmhu13ToyGf1caVwnzc/r+6CxTL9tIyI65y7U6/X6sBtB1OjGjRsAgOXlZUwx7wm9Im7fvo3r169jkcPqaADu37+PR48eYYPfwtOQXbhwAbyUpFfK/ft676mDA87GS3QOxf7/lBexxtQXRA04XJGIiIiIiIiIiEYeg1xERERERESAPnR5aoozNhMRjSjm5CIiIiIiIgL0HI5GHkciIho57MlFREREREREREQjj0EuIiIiIiIiIiIaeQxyERERERERERHRyGOQi4iIiIiIiIiIRh6DXERERERERERENPIY5CIiIiIiIiIiopF3oV6v14fdCKJGFy5cGHYTiIiIiIiI6BwaGxvDt99+i0uXLg27KXQOfWfYDSBqNjU1BQBYXl42/yYadbdv38b169exuLg47KbQK+D+/ft49OgRNjY2ht0Ues1duHAB/L6UiIhellgsBgAMcFFHHK5IREREREREREQjj0EuIiIiIiIiIiIaeQxyERERERERERHRyGOQi4iIiIiIiIiIRh6DXERERERERERENPIY5CIiIiIiIiIiopHHIBcREREREREREY08BrmIiIiIiIiIiGjkfWfYDSAiIuqHqqpIp9MIhUIQBGHYzaHXWD6fR7FYBAAEAgEoioJ8Pg8AmJmZgdPpHGbziIheimKxiFKphEAgMOymEBGZ2JOLiIg6qlarCIVCKBQKfS9TLBYRDAZRqVQGUs5QqVSQTCahquqJlicalGw2i93dXfPxxYsXAQCpVMoMfhGRzjh3h0IhhEIhpNNpaJo27GbRAOTzeayvr5uPjS+iiIiGiUEuIiLqqFarIZ/PQ1GUvpex2WwQBAF2u918LhKJIJPJ9Cx3HKddnug0JElCOByGKIpwuVwIh8Ow2WzDbhbRubKzs4NAIIDd3V24XC64XC4kk0lEIpEzXa+qqggGg+aXImR1VvvHZrNBFMWhtoGIiMMViYhooJxOp+WbXQDY39/HxMREz3KnXQ8REZ0Pqqri7t27mJmZQTweN5+/c+eOObz3rGiahkKhwB5jHZzV/pmdncXs7OxQ20BExJ5cRETUt1KpZH7zGg6H4fF4EAqFLEMGG8soimL+nclkEAwGsba21lIO0IdGxuNxzMzMwO12IxgMdr0Ral5+bW0NwWDQ8lMqlczyqqoiEolgZmYG8/PzSCQSZ7GL6IxomoZoNAqfz4eZmRnk83nE43HLMdLumAmFQmd+Q01ErVKpFAC09NoSBAHT09MAgEwmg3g8jp2dHciyjHA4bJYrFosIhULw+XwIBoPY2dkxX6tUKohEIvB4PPB4PAiHw+bn0M7ODpaWlgAAS0tLCAaDliH33eptp9u6GrfBGELv8XgQjUZRrVZ77qNubWlXr/G5lU6n4fF4MDMzY36mNi+Xz+fh9/vNNhvt6bR/CoUCgsFgS9ApFothc3Oz57YY6258v6vVqrnvZmZmzHp6vUdERKfBnlxERNS3Wq2GQqGA+fl5zM7OmsGixuGIRhlN0yCKIsLhMJaWliDLMvx+vzmUobEcAHNY5NLSEux2O7LZLMLhMDKZTNtE3s3LT09PY3JyEoDecyyRSJgJ6jVNw/z8PCYnJxGLxcwcMUbghM6/SCSCUqlk3qwZN1KSJJllCoUC/H6/Zbl8Po+ZmZm2deZyOctNdaNkMmneiBPR8e3v78PtdncdvqYoCnZ2dpDJZLC0tGSez40vMZaWlhAKhbC3t4e7d++aAbLt7W2IomgGfVZWVhAKhbC7u4tr164B0M8ZwWAQly9fNj9DetXbTrd1NW7Dzs6OOWz5ww8/hN1u7/r50qstRr35fB6hUMj8Iujx48c4PDxENBrF73//eyQSCTidTrP9iqIgk8lgZ2fHPE8abd7a2uq6fwqFArLZrHkeNSZ8WVlZ6fV2m+ve3983H0ciEWiahkQiAU3TzC+eurWBiOi0GOQiIqJjC4VCltmUQqEQFEWBw+GwlBMEAbIsQxAEOBwOyLLcsc7mYQ5utxvpdBrFYrGvi1+n0wmn0wlN0xCPx7GwsGAul8lkoGka7t27Z7apWq1idXUVS0tLnK3xnKtUKsjlclhfX4fX6wUAM2h6GpOTk2Zvk2a84SI6nUqlYv6/dqOqKlKplOXz4bPPPoPX68XCwgIA/f99f38fW1tbmJ6eNnsBGcLhMEKhEFRVhSiK5hcek5OTls+lXvW202tdgP6lSzqdhsvlAgD8/ve/x87OTtcgVz9tOTw8xPr6urkNe3t7qFQqyGQysNvtmJ2dxYMHD/D111+3tH9ra8tc7uLFi4hEIigWi3C73R33j9frtQS5dnZ2YLfbTxzwVxQFXq/XfG+N46Hbe0REdFoMchER0bE13rgMMhigaRqKxeKphi2sr6/j2bNnlhuTcrkMQRAsObwURYGmaVBVlRfY55zx7b/b7TafM24mT0MUxb6TJBPR8djtdhweHvYs1+4LkMePH8PpdCKZTJrPGedrg6qq2N/fR7lcNidH6ZXfqZ962+m1LmMCCoMx4+pp22Kz2SyfT6IoQtM0y4QrTqezZWhk83JGz6lvvvnGch5tNjc3h0gkYgbwstksfD7fib8ImpubQyKRQLVaRSAQ6LpuIqJBYZCLiIjOhVKphIWFBUiS1LXHV6861tfXkUwmLRfl7W58HA4HotEogxwjwLhRHvRMmsViseMwnEgkwhsyolNwOBz45ptvTrRsrVZrec7r9ZrDkzOZDGKxGKanp1smNTlNve2cdF1n0ZaT6nfm1+npadjtdjx48ACzs7MoFounmgnznXfeMXvMzs/PY2FhgSkCiOjMMchFRETnQiqVgsPhsAwfa/yGux/GjUjzEBm73Q5BEDrmX6LzzQhENg6JbRe4FAQBz549Mx/36tVx8eLFjgHVfnpiEFFnHo8H8XgcpVLp2D0vjeHn3XLmBQIBM2BSKBTMvJCNqtWqpUdTr3pPs67jOklb+qVpGjRNM7/sKZfLAIAf/vCHlnLN+0cQBPh8Pjx8+BBA+152xyXLMmRZNnOEBYNByzqb20BEdFqcXZGIiM6cKIooFovQNK3jjFOHh4eWAEW/szk1lj84OGj7LfHc3BwqlYqlzmq1imKxeKx10HDIsgy73W4GPY3ZPZtJkoSHDx+aQ3563Ty6XC6Ew+G2P4MYDkn0OgsEAhBFEaFQCDs7O6hWq1AUBZubmwgGg12XnZubQyaTsZyjFUWxDBU0hvVpmoatra229RjJ4Y3PnV71ttPvuo7rJG3pl3H+U1UVmqZhZWUFLperpXdq8/4BAL/fj1KphK2tLUuezOPSNK1tMLC5V1lzG4wZJ3sNISUi6oRBLiIiOnOBQAD5fB5utxvxeLxtmTt37gDQ8y7Jsoy9vb1jBRr29vZQrVbh8XggSRIkSTKDIi6XC/F4HKurq5BlGTMzM5BluWPScTpfBEHAysoKstksJEmCx+Npe2zcvXsXiqLA7XbD4/HA7XazhwDRkAiCgO3tbbhcLkQiEciyDJ/Ph/X1dczPz3ddNhAIYGZmBvPz8/D5fPB4PPD5fGa+xmg0ilwu1/H/3OFwwO/3I5lMQpIk5PP5vuptp9e6TuokbemXKIoQBMFsc7lcxr1798zXO+0fQP9SweFwQFEUzM3NnbgNmqYhmUzC7XZjfn4ed+/eRTQaNYedd2rD/v6+OdsyEdFJXKjX6/VhN4Ko0Y0bNwAAy8vLmJqaGnJriAbj9u3buH79OhYXF4fdlGNrHmpSqVRaks33W6ZWq8HtdptDKJrLVatVlMtlOBwO8yLbuFhvV77devrZnlqtBkmSBp7j6WW5f/8+Hj16hI2NjWE35aUrFApwOp0QRRGSJCEej7fMslgoFMzjrPkYGgSjt2BzwNbn8yEcDp961sdRcuHCBfBSkvpRKBRgs9ksnxW9Jv8wJiMB0DJszuj1ZJzL2w2LLBQKEAShpQdTt3rb6baudtugaRoURenr86lTW9rVW61WcXh4aMklqSgKbDab+XmWTCaRyWSwu7uLSqVifu6202n/RCIRfPPNNz17rTW3sV2bjV7cxud6P21oN1szkSEWi1l+EzVjTi4iIuqq+aah3UX7Scq0K2e32y0X+c0Xuc3lTzKzI4ehjbZ+bki7HUODoqqqGUyr1WqoVCo9c4ARvc7a/e8KgtD1f1QQhI7/881Bk3bn9k7Ldqv3uOtqtw2CIPT9+dSpLe3qbffFTLf916sN7darqipyuZxlhuJOmtvYrs29JvBo1wYGuIjoNDhckYiIiOgYJEkyh+JUKhXs7+8jmUzC6XTy5oyIRtqDBw8A4FT5uIiIhok9uYiIiGgkGTOGvWwLCwtYWFgwH7tcLkxPTw+lLUREjYzJM07qnXfewTvvvDPAFhERvVzsyUVERERERERERCOPQS4iIiIiIiIiIhp5DHIREREREREREdHIY5CLiIiIiIiIiIhGHoNcREREREREREQ08hjkIiIiIiIiIiKikXehXq/Xh90IokY3btwAACwvL2NqamrIrSE6vSdPnmBiYmLYzSAiIiIiGnljY2P49ttvcenSpWE3hc6h7wy7AUREr7rx8XEsLi7i+vXrWFxcHHZz6BVw//59PHr0CBsbG8NuCr3mLly4AH5fSkREL0ssFgMABrioIw5XJCIiIiIiIiKikccgFxERERERERERjTwGuYiIiIiIiIiIaOQxyEVERERERERERCOPQS4iIiIiIiIiIhp5DHIREREREREREdHIY5CLiIiIiIiIiIhGHoNcREREREREREQ08hjkIiIiIiIiIiKikccgFxERERHRa65arUJRlGE340QymQwikchQ1q0oCorF4lDWPQzpdBrz8/PDbkbfhnlsENFwMMhFRERERPSa8/v98Pl8KBQKw27KsSmKgv39/aGsO5VKWYI+mqahUChA07ShtKeXftvXqZyqqlBV9SybOFDDPDaIaDgY5CIiIiIieo0Vi0UoigKHw4FsNjvs5oyUYDCIra0t87GqqggGg+c2ENRv+877dhARdfKdYTeAiIiIiIiGJ5PJwOv14sc//jE+++wzRKNRCIJgvq4oCjRNg9PpRLFYhKZpcDgccDgcxypjqFQqZvDE7Xab61IUBdVqFS6XC6VSCbVarWMdxjokSep7OxVFMYdkiqIIp9Npea3fdXeiqqrZa2h/fx+KokCSJNjt9hNte+OyRg+75vqOs539tO845Xrtp07b2s2wjg0ienUwyEVERERE9JrSNA3ZbBbRaBSyLCORSCCXy2F2dtYsk8lkkM/ncfnyZTP4oaoq4vE4/H5/32U0TUMsFkM+n4fT6UShUIDb7cb6+jrsdrtZh9PpRDabhc1mQ61Ww/r6OmRZNusIhXZQXUkAACAASURBVEIoFAoQRRGHh4d9BTPS6TRisRjcbjcAPRDyzjvvYGlpydL+butuJ5PJIJPJYHd3F7lcDrFYDADMPFArKyuYnZ091rbv7u6a9a+vr+PevXtQFMUM7KRSKYiieOzt7Na+Rr3KGduSyWQ6vkfdtrWdYR4bRPRq4XBFIiIiIqLXVD6fh6Zp8Pl8cDgccLvdePjwYUu5YrEIm82Gvb097O3tYXZ2FrFYzJKzqVeZdDqNfD6PbDaLVCqFvb09qKqK1dVVSx2A3nNpd3cXTqcTKysr5uvpdBrFYhGZTAZ7e3tIJpMol8s9t9PhcGBvbw9bW1vY2trC0tIS1tbWWtrfbd29BAIBM0C1u7uLcrlsBoaOs+35fB65XA4XL17E/Pw8rl27hr29PWSzWVQqFeRyuRNtZ7f29bsdgB68NHJ2dXqPem1rs2EeG0T0amGQi4iIiIjoNfXw4UNMT0+bPWz8fj/y+Tyq1aqlnCiKiMfj5uO3337bDHT0W2Z7exuzs7PmukRRhCzLlsTgRh2CIEAQBPh8PkteqGw2C7/fD5fLBQCQZRnBYLDndnq9Xkvvp8nJSQCw1N1r3adx3G232+3wer1wu91mbzOHwwGXy9U1cNPPdp5Wr/3Uz7Y2G+axQUSvFg5XJCIiIiJ6DVWrVeRyOSwsLJiBKJvNZg5hDAQCZtnmfEqNeZ76LVOpVFAqlbC5udm2XLs6mqmq2nGoXjfVahWpVAqFQgHlcrkliNfPuk/jpNve/Jzx/nTSz3aeVq/91M+2nmSZszo2iOjVwiAXEREREdFryJhJcX9/v6XHTCaTsQS5mtVqNbNsv2VsNhtCoRDC4fCp2n14eHjsZSKRCFRVxdLSEmRZRrFYfKm9fAa17b0MezuBk23rMI8NInq1cLgiEREREdFrKJvNYnp6GqlUyvITDodRLBbNGfoAvZdMqVQyHxt5oRp72vQq02uoXT9EUUQ+nzcfNw+Z7KRQKMDr9cLr9UIQhDPp4dSoUqlYHg9i2/vR73Y2t6+Tfss1Osm2vsxjo/G4JqJXD3tyEREREZ2hzc1NeL1eSzDASLDcmL+oHUVREIvFsLKy0nFWMqKTUBQFhUKhbWL16elpc/a8xp41oVAIs7OzEAQBm5ubmJ2dhcPhsCzbrczS0hICgQAikQg8Hg9sNhu+/vprSJJkzsDYSzgcRigUMmeDTKfTfeWbcrvdyOVyuHr1KlRVxfr6el/rOy6HwwFRFJFMJlEsFuHz+eByuQay7f3otZ2d2tfvdvTjJNv6so6Nzc1NxONxbG1tmTNQEtGrhT25iIioo3A4jGAwaPnpdVNORFbxeNycFcyQSqX6yv/jcDhQqVTMYWVEg1KpVDA9PY3p6emW10RRxMLCgjnc0HhudXUVlUoF+/v7CIVCLQGyXmVcLhcymQwuXryITCaDVCoFAGawYWJiArIsW+qcmJgwk6cDemL1ZDKJWq1mJhqPx+OWMu0kEgm43W5sbW2hXC4jlUpBlmXYbLa+191Ou+USiQQEQbD0IjrJtkuS1LJ+l8sFSZJOvJ2d2tepruZy/eynXtvazss6NiYnJ+H1eluCs0T06rhQr9frw24EUaMbN24AAJaXlzE1NTXk1hANxu3bt3H9+nUsLi4Ouyl9UxQFPp8P09PTlgtqURS75mmhs3f//n08evQIGxsbw24K9UGSJMTjcbM3QqVSwczMjHnz2UsikcDjx4+xtbV11k09tgsXLoCXkq++ZDKJTCaD3d3dU5UhIjqtWCxm+U3UjMMViYioK5/PN9ChFESvu2w2C1EU+wpwAfr/4NraGiqVStfZyYiIiIhedxyuSEREJ1IqleDz+aAoCsLhMNxuN+bn5y1Jh41ywWDQzKuRz+fh8XjMPBmlUsnyuNNzqqoiHA5DlmX4fD7E43FzGvVB1EGnV61WzVwoHo8HOzs7CIfDZvJpAPB4PJbEwMZzjWWapdNpzM/PQ5IkeDweJBIJy/vm8/lQLBYRj8fhdrvNoFCjfspomoZEIgGfzwdZlhEOhy0Jij0ej1mHx+PBzMwMMplMyz6IRCKQZRl+v7/tdhUKBcvwmVgshvn5eXObNE1DMBg02+d2u/saWkR0VtoNFTtJGSIiorPGIBcREXV1cHCAQqFg/hhqtRoURcH8/DzeeOMNJJNJHB4eWpIUq6qKhYUFAHoOIq/Xi3A4DFVVzRv6Wq1medzuOU3TMDc3B0EQkE6nzcCJkR9sEHXQ6d29exeFQgH37t1DJBLBhx9+iEKhYMnro6pqSyJgVVUtZZpf29vbQzAYRCqVQjQaxebmpiW4pCgKQqGQmWTZ7/cjkUhgZ2fnWGUikQjy+Tzi8TiSySSq1aol+KSqKu7cuYNqtWrmvYlGo5bAbjgcxv7+Pu7du4dgMIi7d++2bFO5XLbkgwmFQiiXy2aC6M3NTVQqFcuwYIfDgT/96U/d3wCiMzI7O9vzXNlPGSIiorPG4YpERNTV2tqapcdLcx6hWCxmSVwcCoWgKAocDgcePHgATdOQTCZht9shyzL+8R//8dg3QkZA4969exAEAU6nE9VqFfF4HNFodCB19JMEnDqrVCrI5XJYX1+H1+sFgIHMGmbM7tVoa2sLxWLREgTyer1mgmtZllEoFLC9vY3Z2dm+yhjtb5xxKxqNwu/3o1AomNs0OztrHnNutxuZTAbFYhEulwuVSgWFQqHrPtA0DdVqFT/4wQ/M5xwOB5aWlszA2erqKmKxmGU2RVEUOe09ERERUQ8MchERUVeNCbPbaZxSvDlf0MHBAdxut+Vmvd8pyBuVy2UcHh4iFAqZzxk9f/qZOr6fOjjT0ukYvZkaZ886yXvdST6fN2coNIKojTwej+WxLMstQwm7lTHa3zxbHGA9xhonYRAEAQ6HwzL0Fui+D4yyjf8TALCwsIBsNotQKGQOdWzkcDgY5CIiIiLqgUEuIiI69zRNw8TEhGUopKHfm/9eddDpHB4eAmgN3pxWtVrFwsICqtXqsXqFHR4e9uyd11jGaH+746MxsNWrPqD7PrDZbAD07WrWbbl+g7lERERErzMGuYiI6Mxcvny5Jcl4c6J3I8jQ+HxzAODy5csoFosdkxoPog46HVEUAcAyA2C7pP6CIODZs2fm43bBnkaFQgGVSgX5fN4MArVLwN5cz/7+fkvwslsZ47coiieewbCffWC32yEIQkt+rUwmg0KhgJWVFUQiEezs7FiGWiqKwpkViYiIiHpg4nkiIuqqOfF8pVLpe1mfzwdVVc2cXsViEbFYzFJmYmICgiBgdXUVgB7AaE7WffPmTVQqFUtuMFVVzaThg6iDTkeWZdjtdnPmQ2Mmy2aSJGF7exvVahWKopgTEzQyEr8bNE3DwcEBAP29LZfLLcskEglz6GEul0OhUMDMzEzfZdxuN5xOp2XmRk3TsLOz0/cMnP3uA6fTael9qKoq4vE47ty5g9nZWfj9fsTjcUtQTlVVBrmIiIiIemCQi4iI2rLZbBAEAWtrawgGg+ZPY06rXtxuN8LhMBKJBCRJMm/iG9ntdkSjUezs7ECSJITD4ZZk8i6XCysrK/jss88gSRIkSYLH48HXX389sDrodARBwMrKCvL5PNxuN3w+H3784x+3lIvFYlBVFbIsw+fzYW5urqXHVWP+La/XC6/Xi/n5eXg8HsRiMTOpeyO/34+VlRXz/Q8EAi1Brm5ljPZXKhW43W5IkmQmge83yNW8DzweDzweT0vvQVmWLTMyxmIxOBwOM+AXiURQq9XMoK2iKKhWq3jjjTf6agfRy9Z4PJ8X6XQa8/Pzx15OURTz/PM6yWQyiEQiPcuddL/2q90MvEREx1InOmempqbqU1NT9S+++GLYTSEamMXFxfrGxsawmzE0f/3rX+uPHz+uv3jxov748eP61atX6998801Lmf39/Z51/c///E/98ePHHddz2jpGwcbGRn1xcXHYzejo8ePH9WfPntXr9Xr96tWr9QcPHrQt8+LFi77r/MMf/lD/wx/+0PY1Yx3G8fXXv/71RGUM33zzTc8yvXTbPuN/oJ9jtV6v13/961/X33jjjWPtr5eFl5L04MGDtuf0l8X4n27+//iP//iP+r/8y78cu7579+7Vr169OqjmjYx+99dJ92s/jHPdBx98cCb106theXm5vry8POxm0DnGnFxERHTm7HZ7z1xYdrvdMitdJ91m7BtEHXR6/eQ9O25utH6G6gmC0LPefso4HI5TT0bQbR2yLMPhcGB3d7ev43V3dxeBQKBnIn2i15GqqggGg9jd3R3IJCLBYLClFyidLUVRsLS0hMPDQzO3IRHRSTHIRURERGeGgZn2QqEQUqkUlpaWupZTVRUHBwfm0EWiUVSpVMwhaG632zwvGENxXS4XSqUSarVa2yBztVptycUniiLsdjv29/cB6BNJKIoCSZJaZirtVncv/bYR0PNOapoGm81mfpnSuHwul4PD4bB80dJp3xjLGvn72k2K0fh687K96m5sb78zyHba3sb9oaoqFEVpCeAb+TzbfWGhqipmZmawsLCAYDB4orYQERkY5CIiopdKluW2icPp1fQyctv0czydt2MuEAggEAj0LCeKYtvZJIlGgaZpiMViyOfzcDqdKBQKcLvdWF9fh91uRyaTMV/LZrOw2Wyo1WpYX183e0OWSiWEQiFcvnzZnLDC6XTC6/ViYmLCnMzEyCe1srJi5n401p/JZNrW3U4mk0Emk8Hu7q75uFcbNU1DOBxGPp+Hw+GAoijmBBLG8oIgoFAomL04e+2bdDqNWCxmBouKxSLeeecdMzC+s7ODu3fvwu12o1arQRRFrK+v97XfNU1DKBRCoVCAKIo4PDw8VqDL2N5SqWROshGPx+H3+833a2tryxLoCgaDuHXrVtvAvtvt7qtXKxFRP5h4noiIiIiIBi6dTiOfzyObzSKVSmFvbw+qqlp6JhqB8EKhgN3dXTidTqysrJivr66uYnJy0gw8TU9Pw2azIRqNIhAImMGo3d1dlMtly+QmqqpC07SOdferVxvX19dRLBaRTCaxu7uLvb09TExMWJa/fPkyisWi2d5e+8bhcGBvbw9bW1vY2trC0tIS1tbWzIkwPvvsMywsLCCVSiGTyVhmLu5VdzqdRrFYRCaTwd7eHpLJ5LG+CFBVFTabzdzW2dlZxGIxaJoGr9cLURTNmWyN/aaqKubm5o6764mIjo1BLiIiIiIiGrjt7W3Mzs6awwdFUYQsy+YQQ+O5eDwOQRAgCAJ8Pp9ldr1KpWLpZfTGG2/0Pfter7r71aseI7/e9PS0Wf6dd94xX7fb7bh3755luGCvfWMEiwyTk5MAYK7XZrNhf3/ffNw4fLJX3dlsFn6/3xw2KcvysYYJGvvDEAwGzWAiAMzOziKXy5mvZ7NZuFyuvnIrEhGdFocrEhERERHRwFUqFZRKJWxublqebwx29Mrb5/V6kU6n4Xa74XA4sL293ffEFYPKCdirnkqlAq/X2/F1m83WNl9Wt31TrVaRSqVQKBRQLpdRrVYt5aLRKO7evQuPx4PZ2VncuXPHXLZX3aqqnirBe/O2GEFII+A2NzeHzc1N5PN5yLKMbDaLt99++8TrIyI6Dga5iIiIiIho4Gw2G0KhEMLh8InrUFUVly9fNuuYnp5GNBodVBMHwmaz4eLFi8deptu+iUQiUFUVS0tLkGUZxWLR0tvK5XKZ+b4SiYQ5w6QgCH3t98PDw2O1t5tarQYAZuDM5XLB5XIhm80C0AN2t27dGtj6iIi64XBFIiIiIiIaOJfLdepJH/L5PN5++20Ui0UUi0WsrKy0zJ4IHM3eNwxOp9PMtWXo1Z5e+6ZQKMDr9cLr9UIQhJaeXAav14tYLAZVVc2eVL3qFkUR+XzefNw41LAfqqqiVCqZj42hiY099G7evIlsNovt7e2WoZcnZcwkSUTUDXtyERERERHRqaRSKdhsNvOx3+/H0tISAoEAIpEIPB4PbDYbvv76a0iSBL/f31e9Pp8PkUjEnD3R7XZjcnISS0tLEAQBDocDoigimUyiWCzC5/OZuaZellAoZPackiQJiqKgWCyaPZna6bVv3G43crkcrl69ClVVzZkTAT0oFQgEEAwG4XA4kEql4HA4zLxcveoOh8MIhUKIRqOQZRnpdPpYucqMnmKzs7MQBAGbm5uYnZ215AW7desWEokEdnZ2LPm72lFVFel0GoAeyKrVakgmkxBF0ZyFdnNzE/F4vGXWRiKiZuzJRTSiKpUKp5UnIiKioZJlGbIso1QqoVAomD/A0ZC6ixcvIpPJIJVKAYAZpJiYmGjJrzUxMWEmWdc0DcViEe+88w5SqRRSqRQCgQDS6bRlhsZEIgFBECzXRb3q7qR5uX7q8Xq9ZhDKaEMymey4fD/7JpFIwO12Y2trC+VyGalUCrIsm/m9bt68iUwmg2QyCUEQsLW11XfdXq8XyWQStVrNTEIfj8d77htje27duoXV1VVUKhXs7+8jFAq1zFopiqLZC21mZqZrndVq1TxuHA4HbDYbCoWCOasloCfe93q9lkAaEVE7F+r1en3YjSBqdOPGDQDA8vIypqamhtya8yeRSGBtbc3ynNfr7dh9n86H27dv4/r161hcXBx2U+gVcP/+fTx69AgbGxvDbgq95i5cuABeStJZKRQKZq6pxuDG/Pw8Jicnz11uLrLy+/2QJKlnTy6i44jFYpbfRM3Yk4tohEQiEbO7tjHbjtE9f2FhYdjNIyIiIhoYp9MJu92OWCyGzc1N7OzsIBKJoFwuY35+ftjNoy5KpRJKpVLPXlxERIPGIBfRiCiVStjZ2cHKygr8fr/Za2t6ehorKysolUpm4k9VVVuGMhpdwdvVm8lkUCgULElNB1EHERER0UmJooh0Og23242vv/4a//Vf/4WrV69id3fXkuSczp9yuYzZ2Vl4vd5hN4WIXjNMPE80Ira3t2G32zE9Pd3ymtfrhdPpxN7eHqanp5HP5xGNRi0z6+zu7rY8F4vFkM1mIUkSyuUybDYb1tfX4XQ6B1IHERER0Wk4nU6Ew+FhN4OOye/39z25ABHRILEnF9GIUFUVExMTHV8XRfFYUyvncjlkMhkzIWk+n4coikgkEi+1DiIiIiIiIqJBYJCLaEQ8e/YMgiB0LaNpWt/1PXz4ENPT02YiV2P2m3w+/1LrICIiIiIiIhoEDlckGhEOh6NtPiyDqqrHmlb52bNnKBQK2NnZsTwviuJLrYOIiIiIiIhoEBjkIhoRExMTyGQyUFW1JYikqioqlUrLDDaapnXs/WW32+H3+3tO6zyIOoiIiIiIiIjOGocrEo2IW7duQRCEloCSpmmIx+MQBAGBQADAUU+qxgTxe3t7luWM5PKdhjgOog4iIiIiIiKil4U9uYhGhCiKiEajiMViqFQq8Pl8qNVqyOfzqFQq8Hq9ZmBKlmXY7XbEYjH4fD4UCgWoqmqpLxgM4sGDBwgGg/D7/RAEAcViEYIgIBqNDqQOIiIiIiIiopflQr1erw+7EUSNbty4AQBYXl7G1NTUkFtz/hSLReTzeRSLRWiaBqfTCbfbjXg8DofDgaWlJXi9XlQqFayvr6NWq8Hj8cDr9SKRSGBlZcWsq1qtIp1O4+uvv4amaZicnMTNmzfhcrkAYCB1EPD06VP88Ic/xP/+7/8OuylERERERCPtH/7hH/Ds2TOMjY0Nuyl0DjHIRecOg1wnoygK4vE4crkcdnd3j5WEns7e7du3cf36dSwuLg67KfQKuH//Ph49eoSNjY1hN4VecxcuXAAvJYmI6GWJxWKW30TNOFyR6BXhcDiQTCbbJqYnIiIiIiIietUx8TzRK4YBLiIiIiIiInodMchFREREREREREQjj0EuIiIiIiIiIiIaeQxyERERERERERHRyGOQi4iIiIiIiIiIRh6DXERERERERERENPIY5CIiIiIiIiIiopHHIBcREREREREREY08BrmIiIiIiEaAoigoFAodf6rVatfl19bWMDMz85Jae3KKoiCXyw27GRa5XA6yLEOSJCSTyWE3p6uzep9fxvFzVu/9eTymiOhsfGfYDSAiIiIiot6SySQymUzH1+PxOPx+f8fXDw8PoWnaWTRtoLa2trC5uYlisQgA0DQNxWIRbrcbgiAMpU2xWAw+nw+hUGgo62+n0345q/f5ZRw/ze/9ea+XiM4f9uQiIiIiIhoB8Xgc5XIZ5XIZ8XgcALC7u2s+1y3ANUru3LmDbDZrPlZVFcFgEKqqDqU9qqpCVVX4/X44nU44nc6htKPZsPfLWWh+7897vUR0/rAnFxERERHRK6JSqaBQKEBVVciyDFmWO5atVqsol8twOp0QRREAzKGPkiRBlmXY7fYTr09RFFSrVbhcLuTzeVQqFXi93p5BIiOo5HA4oKoq9vf3AQD7+/tQFMXS3m5tblx/LpczA4EOhwPVahXZbBaCIMDr9Vrqa27L48ePAQClUgkA4Ha7oaoqqtUqHA4HMpkMRFHE7OyspU37+/u4fPkyZFmGw+Fou19O065e+wXQh1kqitJxvx/3/W6s13g/XS7Xseo19unBwYF5vNhsNrhcLst737yvOh1D/ZQ5Sb292kpE5xODXEREREREr4C1tTV89tlnkCQJALC+vo6ZmRmz11cjTdMQCoVweHiIzc1NaJqGcDiMSqUCh8OBVCoFURTN3ydZXyaTwe7uLmw2GxRFgSAIiMfjWFlZsQSEmmUyGXPZx48fI5VKAQBSqRQEQUAoFILX6+3Z5sb1q6oKTdOwvr6OlZUVJBIJCIKAZ8+eYWVlBdvb2223c39/31z/9vY2dnd3kUgkkMlkkM/ncXh4CEAPGM7OzpptKpVKcDqdUFUVsVgMsVjM7Gk3iHZ12y/G+xsMBjvu95O83431qqoKQRCQSCQsw2R71VssFhEMBiHLMjRNQzKZhMPhwPT0NFwul+W97/cY6rfMcevt1VYiOp84XJGIiIiI6BVw7do15HI5pFIppFIpLC0tIZPJtM2jFA6HzQCX3W7H+vo6SqUSMpkMUqkU8vm8GXw5zfpKpRJkWcbu7i6y2Sy8Xq8ZnOnH7OwsEokEACCRSCCVSpmBnH7abKw/m80ik8nAZrMhHA4jFAohk8lga2sLtVoNDx48aLv+6elpc/3RaNQSBCoWi5AkyRI8SafTKBQK2NraQiqVQjabRSAQQCwWswwrPG27uu0XAGbPuk77/STvd2O9Rrubt61Xvevr6/D7/VhfX0cqlYLf74coiohGox3X2c8xdJLjrNcyJ2krEQ0fg1xERERERK8At9ttGRZm9DZpztkUjUahqqoZ4AKAbDaLW7dumY8FQYAsyygUCqdan8PhQDgctiwzqBxS/bS5cf12ux1erxeyLJs9jxwOB5xOJw4ODo69flEUEYvFLM9tb2+bQw8NoVAImqaZwx7Pul3N9QOt+/0k73e7eufn56FpmjmUs1e9Rq8pgyRJPY+Hfo6hkxxnvZY5SVuJaPg4XJGIiIiI6BVQrVbNoXSdZsHTNA2FQgGiKFpu4BVFwdraGtbW1izle+X06rW+s3SSNrdjs9lOtH5BEFpme6xUKrh586blOaPnl6IoL6Vd/RjUvjNyWBnBn171yrKMnZ0dvPHGG7Db7dja2rL0QDtPRqmtRHSEQS4iIiIioldAJBIxE5c7HA4UCgUEg0FLGSOPUjAYRCKRMIde2Ww2hEIhS8+WQazvLJ2kzWdNFEX87W9/szxnBAAbe3cN26D2Xa1WA3AUyOtVb6VSgcvlwtbWFgB9OOidO3dO1YazMkptJaIjHK5IRERERPQKKBaL8Hq9ZjDl2bNnbcu53W7EYjFsbm4il8sB0PNrGXmlBr2+0zJ6SxlD4gwnafNZm5ycRC6Xs/RsS6fTEAQB165dG+i6Ou2Xfpx036mqinw+bz7e2dmBIAjmUNVe9RaLRXg8Hkset+becOdFr7ZqmoZisTjEFhJRO+zJRURERPSS5PN5ZLPZtrPdtaMoCqLRKJLJpCX3EVE7brfbTIx+cHBgBrDa8fv9KBQKuHv3LlwuF+7cuYNAIGDOJgcABwcHmJiY6Ngr5zjrOw1RFCGKIlZXV1Eul+F2u+H1ek/U5rP29ttvY2FhAaFQCLIso1arYXNzE0tLS11nLTyJTvulHyfddzabDZFIBD6fD3a7Hel0GgsLC+a29arXmH3TOAcKgoCZmRlEo9Fzd47r1dZ0Oo14PI6trS243e4ht5aIDAxyERFRW8Y04Ma30ZcvX8bExAS8Xi8v5ohOKJFItNyErq2tYXd3F6qqYnJyEktLS2bPGIfDAUVRzBnaiAySJCEcDlvyNq2srCCdTiObzWJyctKc4c4oI8uypXwsFoPD4UClUoHX60U2m0UqlTKThHs8Hty6datjG467vk7PNWtXZnV1FalUCuVyGTMzMwD0fFDd2tyuHp/PZw6xM/j9/q5tMmY+bBxu2Gk7XC4XstmsOcuiy+XC+vq65f9+UO0C2u+XfvZ7r33XjizLcDgccLvdWF1dNYPwjeembvVWq1XkcjmEw2Hz+qJQKCAcDsNutyMajba0s59tOUmZXsv029bm44KIhu9CvV6vD7sRRI1u3LgBAFheXsbU1NSQW0M0GLdv38b169exuLg47Kb0TVEU+Hw+TE9PQ5IkHB4eIp/Po1QqmVOG03Dcv38fjx49wsbGxrCbQsdQLBYxPz9v+dY/Foshm82avTxWV1dRrVaRyWTMXg3JZBL5fN7MC3OeXLhwAbyUJKJ+5PN5hEIh7O3tWXq1+f1+yLJs5oc7D0apra8b4/qT16HUCXtyERFRVz6fz5zSfGlpCZlMBtFoFJIksWcJ0THk83mzFwSg57ZJp9NIJpOYnp4GoOfz8Xg82N3dNf/vZmZmkEwmUalUzJnMiIhGjcvlgiiKmJ+fN89vhUIBiqJgfn5+yK2zGqW2EpEVE88TEdGx+P1+TE9PY3193XyuVCphSjrLyQAAIABJREFUfn4ekiRBkiREo1FUq1Xz9UKhAL/fD0mSMDMzg1wuB7fbbU45XiwWIUmS+bjTc93WM4g66GSi0Sh8Pp85tFXTNPh8PiSTyYGtQ1VVhMNhSJIEWZaRyWQQCoWws7NjlnG73ZbHwNEU8J243W7k83lL3c35sjRNQywWg8fjgSRJ8Pl8SKfTx67HGLpkePDgAQRBsAxjEkURLpfLHOYD6MN/7Ha75TkiolEjiiK2t7cRCoXM53w+H3K53LkL4I9SW4nIikEuIiI6th//+MdQFAXVahXVahWhUAjXrl1DoVDA+vo6isUi7t69C0APToRCIUiShFQqhWAwiEgkAk3TLEGRxt/tnuu1nkHUQScTiURQq9WQSCQA6DliNE2z3BwYMpmMGWBs/slkMh3XEQqFoCgKUqkU7t27h2QyiUKhgMPDQ7OMpmmWx4D+njc/10jTNEQiETidTqRSKdy5cwebm5uWIFYkEkGhUEA8Hsfe3h6CwSBisZglyXY/9ZTLZUvulr/97W8QRbFlZjGn0wlFUSzPiaKIP/3pTx23g4hoFIiiiEAgYOa6WlhYOHcJ5w2j1FYiOsLhikREdGzGRV6tVjOnD19aWgIAeL1eVCoVxONxVKtVs7dKLBaDIAiQZRmCIBw7n4UxBXun9QyiDl68nowoiohGo4jFYpAkCZubm1hZWWk7LbzP50MqlWpbjyRJbZ8vFosolUpIpVLmbF0ulws+n28g7ff7/eYxIcsy9vb2sLu7i0AggGKxiFwuh0wmY/bCWlhYwH//938jlUqZwwx71WMEhH/wgx+Y5Z89e9a2PRcvXmx5ThRFVCqVgWwvERER0auKQS4iIjo2I6hks9nwpz/9CbVaDcFg0HzdmCGqVqvh4OAAkiRZAh4nmYmo13oGUQeDXCfn9/vNfG3T09OW4E8ju91uBqr69c033wCwBsEGOZtVc3DN7XabvcqMwFLjMEMAmJiYQD6f77se4zhrPMbsdnvbY7ddzzNjlkUiIiIi6oxBLiIiOraDgwPY7XbY7XZomgaHw4FwONxSzuFwdB0qdhy91tNPAKBXHXR6giB07KEE6MnXG/O5NQqFQpb8VIZ2AaKzVKvVzKBs4/DXZu16XHWqp3FaeoPNZkO1WoWmaZYg8DfffNOS84UBLiIiIqLeGOQiIqJjqVQqZtJvALh8+TKKxWLH3jlGj5fGG/nm4YVGAKAxoNBcptd6BlEHnVw6nUa5XEYymUQoFEI6nW47+6bL5WobZATQMZmv8XyxWDRnJmw3RNVut1uCQf0OY20OIJVKJTPoafwulUqW3lzlcrlnIKqxHrvdDkEQLHm1jOOw8ZjUNA3lcrll36mq2tKbjIiIiIismHieiIi6Ojg4QKFQQD6fRzweN2dJNIJcc3NzUBQF8XjcnMXQCIQBeg6marWK1dVVqKqKXC7XkujdmD1udXUViqK0LdNrPYOog07G2Kd37tyB1+vFwsICksmkZVZLgyiKkGW57Y8oim3rd7vdEEURyWQSlUoFpVIJCwsLLeVkWUY2m+1aJhqNmgnyDclkEpubm6hUKtjc3EShUDCniJdlGU6nE7FYDJVKBdVqFZubm8jn85Zhr73qAfThjI2BMKPueDyOUqkERVEQiUQgCEJLvjFVVXH16tW2+4eIiIiIdAxyERFRWzabDYIgYG1tzZxNrlQqIRqNYmtry+yV5XQ6kUwmsbOzA4/HA0mS4Pf7cXBwAEDvuROPx5FOp+HxeBCPx1uCA4IgYHl5GblcDj6fD6urq7h3756lTK/1DKIOOhkj4bwRVDICoJ2GJR6XIAhYX19HpVLBzMwMFhYWMDc311IuGo1C0zTMzMwgFArh7bffbultVSgUWhK4h8NhbG1tYWZmBqurq1haWjJzigmCgGQyicPDQ8zMzECWZXOGx+a8Y93qAYBr166hVCpZlllfX4fNZoPf74fP54OiKNjc3LQMzTRmMmVPLjpPqtUqisXisJvRYm1tDTMzM+e+zvOs3+09y/1SqVQ42QYRnQiHKxIRUVt2u73vGxiv14u9vb2Or/v9fvj/H3v3D5vGmu4P/BtpldkGtFc7kVaHW1zTBJqDmzMp1ig5C8UNNJ40prk4R8q4MRWuSBO2MZVpzrjYECnxNBeajIs1aeCekyVNJrqS2VtAs/gUmVWkTHEO/IozbvgV1sx6zF/b2NjO9yNFCTC888zrsWM/ft7nlWX3sWEYA8ckk0kkk0nPc+12+1TnmcUYdHonk1miKM58jsPhMOr1uue5QqHgeRwIBAaOOXk/nHzdeV+1Wh157mAwOFW136RxYrEYnj9/7ll2GQgERu426djb2ztTw36ii1Sv15HL5VCv1+fS09C2bfdz6XhPu8PDw7G99M7iIsY8btS1zMu013sR82LbNra3t/H8+XPIsjzwdZ6IaBJWchERERFdgkgkMjRZN0m9Xocsy1fih1+iq8KyLKTT6aHLoq+bm3Qt59HpdBCLxQZ6IBIRnQYruYiIiOhauo5JnydPnpyqys2yLAiC4C4BJbpODMOAYRgIhUKQJMldhnt8CW6j0UCn00E0Gh1YXmxZFt6/f4+DgwO3ktHn8+HOnTvY398HAOzv78M0TQSDwYG+frVaDaZpDh17mE6ng2q1Cp/Ph2QyObRP4KQxDcPA/v4+7ty5A0mSPFVuznUHAgHoug5RFHHv3r2J13LeeRw3BnC09NQwDPe6zqJWq7nndxJUpmnCNM2BKtRWqwVBEAbiFAQBhUIB0Wh0oK0BEdG0mOQiIqJLJ0nSwDJCotOaRT+gWd2H044zbEntOKIoTlzOSHTV2LaNTCaDTqfjLsl17mVRFKHrOur1Onw+H0zTdJMbW1tb7udHs9lEOp2GJEmwbRuqqiIQCCAej+Prr792Py80TXMTwU6CxrZtpNPpkWMPs7Ozg+3tbcRiMViWhXq97vncmzSmc82tVgvBYBCWZSGfzyOfz7vL9XVdR6PRwOHhIYCj5FI2mx15LbOYx0ljdLtdrK6uwjRNLCwsoFgsIhQKnepj7VShCYKAYrHoblJjmibS6TQ0TfPsILu6uop0Oj2w024gEJjL0lciulm4XJGIiIiIiGamVCqh1WpB13VomoZGowHbtj39+1qtFiRJQr1eR7VaRTQa9SSVSqUSZFlGqVSCpmmQZRmiKCKXyyGZTLq7pBaLRWia5qlAsixr7NjDVCoVpFIpFAoFlEqlgV6Dk8Ysl8swDAOVSgWapqFarSKVSiGfz3uWITabTYRCITdBNe5aZjWP48ZwdiTWdR2VSgXlcvlUm7E481KtVqHruueanV1zj/c0NAwD3W7X06eTiGiWmOQiIiIiIqKZqVarePTokbskThAESJLk2XQkEAh4KnkikYgnGeRUJjlCodDUPasmjT3qPc6SPyfm04y5u7sLWZY9lUiKosC2bbx//959ThRF5PP5qa5jFvM4aQzDMJBIJNy4w+HwqZYKnjz/ysoKbNt2d5J99OgR6vW626C+Wq0OLOMkIpolJrmIiIiIiGhmTNPE8+fPEQqF3D+6rsPn8009hiRJ2Nvbw97eHhqNBiqVypn7RU2jUCjA5/MhkUhAURQ32TWtTqeDr776yvOc01fLNE33OUEQpu4nOIt5nDRGt9sd2nvsrJw+W06ibXl5Gd1uF7VaDbZto16vI5FIzOx8REQnsScXERERERHNjM/ng6IoAz2XTqPT6SAcDqNSqQAA4vE41tfXZxXiAKdPVavVQqFQQCqVQq1W8zRon/T+//f//p/nOad66axVS7OYx2nGcHqEzUKv1wPwrwRfMBhEJBLB//zP/wA4mhMmuYjoIrGSi4iIiIiIZubevXuo1+vnGqPZbGJpaQmapkHTNGSzWU8FlPNvZ1ncrITDYeRyOXS7XTdhM43FxUW3WslRLpchCALu3bs39r2jrmUW8zhpjHA47Inbtm3PcshJLMtCo9FwH+/t7UEQBHeHRQCQZRm1Wg27u7uIRqNTJw6HsW17JpuOENHNxUouIiIiIiI6k5PJp0KhgPX1daRSKXd3RAA4ODjAwsLC1FVJiUQChUIBhUIBwFEiKJFIIJfLwe/3QxRFiKKI7e1ttNttRCKRMy9ndKqLkskkbt++DcMwEAwGT1WB9eTJE6yurkJRFEiShF6vh52dHWSz2YnLAUddyyzmcdIY6XTarfSKRCKoVqtTL6cEjirFNjY2EIvF4Pf7US6Xsbq66rnmeDyOQqGARqMBVVVHjuU0wHf+3ev1oKoqfD4fVldXARwlDguFAiqVCiKRyNRxEtGXg0kuIiIiIiI6lWg0OjLREgwGUa1WoWmaWxW0tLSER48eATjqt3Wyr9Tx55weTplMBplMxq0uymQy8Pv9yOVyAI52BtQ0De12210CN2nsYQRBQDabxZs3b9DtdiFJElKp1Nj3n3wuHA6jWq26uyyGw2GUSiVP4m1cHMOu5bzzOO0YpVIJuq7DNE1ks1kEAoGpqrmcBvKRSMTdpTGXy3nmDjhK4kWjURiGMXUictTui5IkIZPJsHE9EY10q9/v9+cdBNFx3377LQDg2bNnePDgwZyjIZqN7777Dvfv38fjx4/nHQrdAK9evcLbt2/x8uXLeYdCX7hbt26B30rSrDUaDSiKgnfv3nkqgmRZhiRJbpKLro9EIgFJkqbeWZJoFOce4r1Eo7CSi4iIiIiIroxwOAxRFLGysuJW9BiGAdM0sbKyMufo6LQMw0Cn03GXnhIRXSQ2niciIiIioitDFEXs7u5CURT3uVgshlqthmAwOMfI6Cxs20Y2m2UPLSK6FKzkIiIiIiKiK0UUxYHeTnQ9RaPRM28KQER0WqzkIiIiIiIiIiKia49JLiIiIiIiIiIiuvaY5CIiIiIiIiIiomuPSS4iIiIiIiIiIrr2mOQiIiIiIiIiIqJrj7sr0pXz888/AwD29/fnHAnR7Hz69Antdhs//vjjvEOhG6DdbuPTp0+8n+hK4H1IRESX5aeffsJvf/vbeYdBV9itfr/fn3cQRMf927/9GwDgP/7jP/C73/1uztEQzUa73cbvfvc7/OEPf5h3KHQDfPr0CT///DNCodC8Q6Ev3I8//ogHDx7MOwwiIvpC/PTTT/jNb36D//u//2Oyi4ZiJRddOYuLiwCAZ8+e8RtnujG+++473L9/H48fP553KHQDvHr1Cm/fvsXLly/nHQp94W7duoUffvhh3mEQEdEXIp/PAwATXDQSe3IREREREREREdG1xyQXERERERERERFde0xyERERERERERHRtcckFxERERERERERXXtMchERERERERER0bXHJBcREREREREREV17THIREREREREREdG1xyQXERERERERERFde0xyERHRtWCaJjY2NtDtducdCn2ByuUy0uk00uk0Op0OarWa+7jVas07PCKiS9doNFAoFOYdBhGRB5NcREQ0UrfbRTqdRqPRmPo9tVoNoVAIzWZzJsc5TNPE3t4eer3emd5PdB7NZhOCICCTyUAURSwuLiKTyaDT6aDdbs87PKIrq9FoQFEULC0tYWlpCblcDqZpzjssmoFms4lareY+LhQKiEQic4yIiIhJLiIiGqPX68EwDFiWNfV7wuEwMpkMAoGA+1wsFsPz588nHnca530/3Uz5fB6KolzI2KIoQpIk+P1+99+CIFzIuYhugp2dHSiKAlEUsbGxgXQ6DdM0kc/nL/S8pmkiFAoxmTbCRc1PLBbD+vr6XGMgIvrNvAMgIqKbJRAIIJPJDDx/eHg41XHnPQ992Wzbhm3b8w6D6IvXarVQKBSQyWQ8X6vX1tbQ6XQGju92u/D7/ZcZIs2YJEmQJGneYRDRF46VXERENDXDMBAKhdBqtRCLxRAKhSBJkmc5o3OMaZpotVruv1VVRSgUcn+Df/w4ALAsCxsbGwiFQgiFQohEIlBVdWIszvvz+bz7XufP8aWMzWYTsiy7r2UyGfb3uqZUVUUkEkEoFMLS0pLbE0uSJOi67t4bsVhszpESfbk0TYMoikMrK4PBIICjz+V0Og1VVSFJEhKJhHuMrutYWlpy/z8oFovua81mEysrK+7X86WlJXfZ3M7Ojvu57/w/tbe3N9W4w4w71/Fr0HUdkiQhFAohkUhMVaE0LpZh46bTaXS7XRSLRTeejY0NT2JfVVUoiuIZOxaLuV8nR83P3t4eIpHIQOW2LMtT991SVdXzdbfVaiGRSLixOuNM+hgREZ0Hk1xERHRqiqIgm82iWq0iFAohl8sNrZ4Jh8PuDzqyLEPTtJFLyVqtFhYWFvDu3Tu0223kcjmoqjr0N/6jYtI0DZqmYXV1FYIgQBRFAEcJtHQ6jYcPH6LdbqNSqcA0TTx9+vTsk0BzYRgGVFVFuVxGu91GsVh0lwzu7OwgGo26992wJKmu6wPJUOePruuXfTlEN1an00E4HJ64pLfZbELXdZRKJTcJUqvVkM/nsb29jXa7jc3NTZTLZezs7AAA9vf3kU6n0Ww20Ww2ce/ePfcXKLIsY2trCwCwtbUFTdMQjUanGneYcec6fg3O15xKpYJutzsxMTRNLM64pVIJpVIJzWYTiUQC+/v7qFarKBQK2Nvb8yTdgKOvk87/h9VqFX6/3/2/d9T8OHN0PNnU6XTcX2qdRaFQQDgcRrvdxrt37/DNN9+MjYGIaBaY5CIiolMrFotIJpMIBoPIZDKwLGtk3y6nb1EgEIAkSSN7aEWjUbepNwCkUikAmLqxvDO+8xvhbDbrnuv169cQRRFra2sAgEgkgpWVFdRqNVZzXTMnP16SJLlVIeFwGKIowufzQZIkhMPhgffLsox2uz30jyzLl3INRF8Cy7Km7plYKpUQjUbdpuWapiGRSLiPk8kkJElCvV4HAKyuriKZTEIQBAiCgJWVFViWBdM04ff7sbi4CABYXFx0++hNM+4w487lEAQBOzs7kCQJkUgEjx49mrjr6jSxOONGIhFEo1HE43H4/X6USiUEg0HIsoxAIIC///3vnrGd9wWDQQSDQWSzWViWhWazOXJ+/H4/4vE4qtWqO061WnX7D55Fr9fD7du3ARz1NIzH4wAw9mNERHRe7MlFRESndvwHl1k2fu90OqjVajg4ODhzM9pCoYA7d+5gdXXVfe6f//wner0e0um0+5yzS2Ov1+M319dIPB5HNBpFKpVCIpGAoihukouIrg6/3z/VpiWiKA58DrfbbZim6fmaffL/BMMwYBiGe+w0phl3mEnn8vl8nv9HnMTOeWMZNq4oip7quEAgMJD8P/k+J5HW6XTG7n64vLwMRVHQ6XQQDAZRrVbx6NGjidcyypMnT/D06VM0m00oisJfJBDRpWCSi4iIrgTDMNxvgpeWlnDnzh3PN//TjqHr+sCyM9u2Rzaq5+6M10+pVEKtVkOpVEIikXCrQKbRaDRQKpWGvqYoCpfMEM1IIBCYern5MJIkDSRFfD4fAOD58+d48eIFUqkUVlZW3GV15x13mPOca9axnNeksSVJgiiK2N3dxcOHD9HpdPDw4cMzny+ZTOLevXvuUlRd16Fp2pnHIyKaBpNcRER0KU7urnhSpVJBJBI589bytm0jl8thdXV1YJnanTt30Gw2uevTDRKPxxGPx6EoCiqViic5NW53xXA4PHJXTlaEEc3O8vIyMpkM9vb2kEwmPa9N2klxYWEBgiCM/Jr94sULpNNp93N5VN+vbrfr+UXGpHHPc67TOkss0+r1ep45NgwDwOAvdU7OjyAISCaTbl+ucDg8dNn3aYiiiFwuh6WlJSiKAtM0Pec8GQMR0XmxJxcREV24QCCA9+/fwzTNkb/Zv337NtrtNjqdDkzTPHWyq1gswrIsLC0tuUtLnKUyKysrME0ThULBfa7ZbKJcLp/vwujS6bru/gBmWRY6nc7A8tl2uw3DMIZWWzj9ZYb9cfrBEdH5xeNxSJKEp0+fQlVVGIaBRqOBfD4/cgMSh7OrYLlchm3b6Ha7qNVqbrLG5/O5X+NbrZbbxNzhJKKcTUacr/uTxh1m0rnO6iyxTKvb7WJ1ddX9OlgsFj0Jq1HzAxwlJ03TxM7OzrmquJzm+84SzGaz6dkQZlQMtVoNsVjsXFWARPRlY5KLiIhGcr4JdfqLOI/H/SZ72DGZTAYHBweIxWLY3d0detzGxoa79XoikYDf7/f0Djl5/Mm/TdOEbdtQFAXpdBrpdBqvX78GcJT40DQN+/v77pbq6+vrbDp/DYmiiEKhgFAohKWlJYTDYayvr7uvp1IpBAIBpNNp7p5JNGelUgmrq6vQdR3pdBqKosCyLPdz8/bt20P/P0kmk8jn8yiVSohEIpAkCdvb226VZrFYhGmabnWQs1GJM5ZTPVQulxGLxdyE96Rxh5l0rmHXME1PrkmxDBvXaX5/0snnAoGA219LlmWIouhZpj1qfoB/VW/Ztj2xH9fJGI8/FgQBnU4HsVgMoVAI5XIZW1tbEz9Gtm1P1cuNiGiUW/1+vz/vIIiO+/bbbwEAz549w4MHD+YcDdFsfPfdd7h//z4eP34871DoBnj16hXevn2Lly9fzjuUL0YulwNwtLHBcbFYDJlM5ottqHzr1i3wW0miq0NVVei6PnbHyEmcSrtR/QuJ5smp9D9rewu6+VjJRURERDSFdrsNVVVhWRaazSZUVXV36SQiuglM00Sj0UAikZh3KEREZ8LG80REREQTJBIJt/fX8aVN6XQaoVBoXmEREXmMWgI6LV3XIYoik1xEdG0xyUVEREQ0QTQa9ezgGAgEPD3jiIiugrW1NaytrZ35/ZlMZuQOtERE1wGXKxIRERERERER0bXHJBcREREREREREV17THIREREREREREdG1xyQXERERERERERFde0xyERERERERERHRtcfdFYmILsHnz5/Rbrfx448/zjsUugHa7TY+ffrE+4muBN6HRER0WX766Sf89re/nXcYdIUxyUVEdME+ffqE//3f/8U//vEPvH//ft7h0A3w6dMn/Pzzz/jzn/8871CIeB8SEdGl+emnn/Cb3/wGv/76K5NdNBSTXEREF+wPf/gD/vM//xP379/H48eP5x0O3QCvXr3C27dv8fLly3mHQl+4W7du4Ycffph3GERE9IXI5/MAwAQXjcSeXEREREREREREdO0xyUVERERERERERNcek1xERERERERERHTtMclFRERERERERETXHpNcRERERERERER07THJRURERERERERE1x6TXEREREREREREdO0xyUVERERERERERNcek1xERERERERERHTtMclFRERERPSFa7VaMAxj3mGciaqqiMViczm3YRh4/vz5XM49D/Oc67O4bvES0fkxyUVERERE9AWzbRuKoiCdTqNWq807nGulXq9je3vbfWzbNlRVhW3bc4xqtGnju+rXQUQ0CpNcRERERERfMMMw0Ov1EIlE8ObNm3mHc63kcjk0m033sWVZUFUVlmXNMarRpo3vql8HEdEov5l3AEREREREND+7u7uIx+P45ptvUCgU0O124ff73debzSY+fvyIeDwOXddhWRYikQii0eipjnHUajW0220EAgHEYjH3XMfHqFarME0TkiRBkiTP+7vdLqrVKizLQiKRmPo6W60W6vU6ACAQCECW5aHxjzv3Sc1mE61WC6lUCq1WC7u7uwAATdPg8/mQSCQQDAbPdO2xWAzhcBiWZeH169c4PDyELMsIBAJnus5p4pv2ONu2J87TqGsdZ173BhHdHKzkIiIiIiL6QnW7XdRqNTx8+BDxeNxNXhzXaDSwvb0NWZZRqVRgGAYURfH0oprmGNu2sbKygu3tbRweHkJVVSQSCbdaqNFo4MWLF0ilUiiVSmg0Gkin0yiXy+4YlmVBlmWUSiUYhgFZlgfiHUZVVSiKgoODA5imiXw+j42NDU/8k849TKPRQKlUAgB0Oh3s7+8DAPb392EYhnttp7l2TdNQrVaRSqVQLpexvLyMer0OXdchy/LY6qpx1zkuvuMmHWfbNtLp9Mh5mnStw8zz3iCiG6ZPdMU8ePCg/+DBg/4PP/ww71CIZubx48f9ly9fzjsMuiFevnzZf/z48bzDIOrzW8nr7/Xr1/1vvvmm/+uvv/b7/X7/yZMn/f/6r//yHPP999/379692//v//5v97mtra3+119/3f/8+fPUx2xubvaXl5fdc/X7/f7Dhw/7m5ubnjG+//579/X19fX+8vKy+3hzc7P/xz/+sf/LL7/0+/1+/+PHj/0//elP/T/96U9jr/Mf//iH5/Ff//rX/t27d91Ypjn3MN9//73n3B8/fuzfvXu3//HjR89x017769ev+/1+v//rr7/2Hz582P/666/7f/vb3/r9fr//yy+/9L/++uv+X/7ylzNf56j4Thp13LQfo3HXOsw87w26Xp49e9Z/9uzZvMOgK4yVXEREREREXyhd1xGLxSAIAgAgkUjAMAyYpuk5LhAIIJVKuY+Xl5dh2zZardbUxzQaDQSDQTSbTRiGAcMwEAwGPbs6BgIBZDIZ93EoFEK323UfG4aBZDLpLmM7uexwlONL7brdrlshdLy6aNK5z2Paa3euRRAERCIRz5JPv9+PUCiEg4ODc13neU2ap2mu9aR53htEdLOwJxcRERER0RfIsiwYhoF4PA5VVQEAvV4PALC3t4e1tbWR73WSKeOSJyePMU0Ttm3j8+fPnuNCodDUMX/+/Bk+n2/q4x2maaJYLGJvbw+iKOLOnTunHuM8ZnHtANxk5LjzzPM6nRhOe63zvDeI6GZhkouIiIiI6Av0+vVr+P1+dLtdT8WMKIrY3d0dm+TqdDoAMLYJ+sljRFGELMueapzTEgQBh4eHp35fNpuFIAgwDAN+vx+GYSCdTp85jtOaxbVPY97XCZztWud5bxDRzcLlikREREREX6Dd3V0kEglomub5s7GxgU6ng2az6R5rmiZ0XXcf12o1CILgWR436ZjFxUXU63UrROY7AAAgAElEQVTYtn3mmMPhMGq1mjtGt9t1dxIcp91uY3Fx0V3K5iTgZs2ptDq+jBOYzbVPY9J1jorvpGmPG+Ys13pZ94ZTvXjRHwcimh9WchER0bXS6XSQz+ehqupU25ETzcPGxgbS6TQikYj7XKPRgKqqqFQqY99rWRaWl5exu7sLURQvOlT6QrVaLffr6UlOj65qterew36/H4VCAfV6HT6fD7quI5vNeu7RScfkcjksLy8jnU67faYajQai0ejUFTzr6+tIpVJIpVKIxWLQdX2qz5N4PI5yuQzbtgcq12ZJFEWIooh8Po8PHz5gaWkJ0Wh0Jtc+jUnXOSq+aa9jGme51su6N16/fo1isQhN0yBJ0lTjEtH1wiQXERHNjG3bkGUZnU7HbZAbDAaRyWRm9sO681vYXq/HJBddWXt7e1haWvIkuYrF4lQ/JIqiCL/fj3K5fOFLm+jLls1mh/6g7/f7kcvlPP2ffD4fKpUKyuUyAGBrawvJZNLzvknHiKKIarWKcrnsLitzEhIAIEnSQE+laDTqeS4cDqNarboVY4VCAaIootFojL3Wzc1N6LoOy7Lw+9//HrlcDpqmuWNPc+5hhr1P0zRUq1UA/+pLdpZrj8ViAxVHsiyP/f900nWOim+YYcdNM0+TrnWYy7o3otEoDg8PT90LjYiuj1v9fr8/7yCIjvv2228BAM+ePcODBw/mHA3RbHz33Xe4f/8+Hj9+PO9QLpRpmojFYlhbW8PS0hI6nQ5UVYUgCNB1fSZJKae/SL1eH9sL5iZ79eoV3r59i5cvX847lFPL5XIwTROaps07lAsVCoVQKBTcnb2azSZWVlZQqVQ8ia9Rnj9/jkqlMtUyrHm6desW+K3kzaeqKnRdH3s/TnMMEdF5OdWnw6pQiQD25CIioguwsLAASZKQSqVQKpUG+rRMy7KsiX1TTm5zT1fH8X4+Z9VqtTxbxA/j7Mp1nmNs2x67Sxwwfhc55xyjOEnZaRJcAJBMJmGa5sTqFCIiIiL6Fya5iIjoQoXDYQD/2pbeMAyEQiFPwsB5zkkSdLtdrKysYGlpCYlEAolEYmBcwzAgSRJisRgkSUKtVruEq6FpFAoFhEIhrKysQJIktyfM0tISdF13P96jlq7Yto1cLodIJAJZliFJElZWVjxJqlAoBF3XkU6nEYvFEIlEkMvlTn2MZVlu76ylpSUsLS15etiEQiHUajUoioKlpSWEQiGoquqJ16lgjMViCIVC2NnZGbim9+/fu58LwNFvoJeWltzPg263i6WlJXfsQCAAv99/pqbPRLMmSdLEHfqmOYaIiOiiMclFREQXyqlEOVnBMq6qRtM09Ho9NJtNtNttZLPZgWMKhQK2trbchEk+n+duSVeAYRjY2dlBtVpFu93Gzs6O2z/m3bt3btKq3W6PXNZk27bb9LrdbqNarcI0TZRKJc9xTqKo2Wxia2vL7edymmMURYHf70ez2US9Xkc0GkU2m/XcSxsbG27yK5vNQlVVT/Ipk8nA7/ejXq9D13Xs7u4OXFO73fYsr3Xu6a2tLQBH/boEQYCiKO4xoijin//85/gJJ7oEkiRhdXX13McQERFdNCa5iIho5ur1OlRVRbFYxMbGBiRJmnpXJgA4PDxEt9t1Ew3xeHzgGFVVEY1G4ff7kclkYFnWxOVkdPGcj5lTuRcOh8c2Nh7G7/cjn8+7SaFgMIhgMDiwHFBRFKytrUEQBCSTSUiSNJA4G3dMs9lEq9VyG2wHAgEoigLLsjzLBBVFwerqKvx+P1ZXVyEIglvtdXyMQCCAcDg8UMnl3MtfffWV5xpzuRx0XcfOzg7K5TLy+byn0XcgEOA9TURERHQK3F2RiIhmrtPpoNvtQhAEZLNZt/n2tFZWVlCr1RCPx5FKpZBOpwd2kzpeFfOlNqC/iqLRKOLxOFZWVpBMJvHkyRPPMr1pdbtd6LqOdrsN0zQHKqGAwY97JBIZ6P027hin31sulxs4v5OkOzmGIAgQRdF9/ePHj+64jpMbLDjHnnw+mUzizZs3KBQKSCaTA4lgURTZc46IiIjoFJjkIiKimVMU5dSJreMCgQB0XYeu6yiVSiiXy9B1ncmsa0JVVdRqNWiaBlmWoarq0Gq8USzLwsrKCoLBINLpNARBQKFQmPi+44mp0xyjKIqnggoYXF47irPV/cn3H+dscX+ygb5t2zBNE4IgoNVqucs0HUxwEREREZ0OlysSEdGlcn7gP97zaNgP84IgIJVKuVU3e3t7lxMgzUQ8HoemaYhGo6hUKp7XJiWj3r9/7/bgikajkCTJvW+Oa7fbnsf7+/sDSyPHHeP87ff7IUmS58+4pNVxzhjHd5I8eT/7/X74/f6B/lqlUgmfP3+GpmlDe45ZloU7d+5MFQcRERERMclFRESXLBgMQhRFFAoFt0n5ySodVVXdpEGz2US32z3Tkje6fHt7e25C0jRNmKbpSTwtLCyg0+mgVqt5EkOZTMa9D5xlfeVyGd1uFzs7O54dDx07OzvI5/MwDAPFYhHNZhMrKytTHxOJRBAOh5HP590eXJ1OB8+fPx+ouholEolAFEVsbm7CMAzUajWk0+mBpYnHdw8FgFarhVKp5O4iubq6ilKp5C6hdObv7t27U8VBRERERExyERHRDDnVL8Oqbo4fUygU0Ol0kE6nUa/X3QqW4+9fX19HKBTCxsYGstms26/IOeZ4pc2w52g+7ty5g+3tbYRCIcRiMUQiEayvr7uvP3r0CIFAAJlMBvl8fugY0WgUa2tryOfziEajaLfbQ3dty2Qy7n20t7eHfD4/sCxy0jGlUgnBYBCZTAahUAiyLOPg4MBzT92+fdsz5snnNE0DAKTTaWxvb7uJq+PHSJKE/f1993E+n4ckSUgmkwCA9fV1iKLofi50Oh3Yto3FxcUxs000f5ZlDU1Cz5uqqojFYqd+n2EYeP78+QVEdLVNO19nnddptVotT7KfiOi02JOLiIhmRhTFgeVhw0Sj0YFd8I6/b3V1deRW9JFIZOAc056XLp4kSahWqyNfF0Vx6OuqqnoeZ7NZZLPZsecKBAJugumsx4iiiK2trZGvH682c5yMPxgMDizJPJlsi8ViUFUVhmFAkqSB4wVB8HxOVKtViKIISZJGxkZ0FTQaDeRyOdTr9bn0TbRtG6VSaWhvvbOo1+sol8tYW1ubQXQ0rW63i0KhAF3XIcvyVH0YiYiGYSUXERER0QULh8MIh8NjE4DHVatVt8qLiEazLAuqqsKyrJmMl8vlhia36eK0Wi0kEgkcHh6yNQERnRsruYiIiOjaEUURoiie+5jLlM1mp0pydbtdiKIIRVEuISqii1er1dButxEIBBCLxdyedc1mEx8/fkQ8Hke1WoVpmu7mD8d1Op2Bz51QKIRAIIDd3V0AR8uGfT4fEomEpw+gbdtjxz6p2Wyi1WohlUqdKsbj5xFFEbIsQxAE9/3RaBTlchl37tzx7D48am6Ao+SPU+EZCAQGdi1uNBpuQk6W5YFKunFjd7tdVKtVWJaFRCIxdk6GsW0buq7DsixEIhG3pUCn00Gj0Rioxt7b24Pf73ePO87v96NYLEKSJKTT6VPHQkR0HCu5iIiI6Np59+7d0B+WTnvMZYpGo1MtwfH7/dA07Uol6IjOwrZtrKysYHt7G4eHh1BVFYlEwq26ajQaePHiBVKpFEqlEhqNBtLpNMrlsjuGYRhIJBLo9Xo4ODiAqqrQdR1///vf0el03F53+/v7MAzDU9Fl2zbS6fTIsYdpNBqenU6nidGyLMiyjFwuB8Mw3OWTx98vyzLevHnjvm/S3KiqCkVRcHBwANM0kc/nsbGx4Z5TVVVsbGzg8PDQfX3aeXfiLZVKMAwDsixPXWXqjO/sfmwYBhRFcfuY9Xo9FAoFdzMP5/g///nPaLVaQ8cLBAJcmk1EM8NKLiIiIiIimrlisYjDw0OUy2UIgoBsNotEIuHuLAocVStlMhlkMhkAR5tFVCoVt5KqVCohlUq5x/t8PrRaLbdn3+LiImKxGIrF4kAlk2VZSKVSI8ee1jQxdrtdT18yZ5dZ5/1ra2uePoOT5iaRSLjnA4ClpSVsbGxgc3MTgiCgWq0inU57jpl27FKp5Fae+f1+mKZ5qgoqy7KQyWTc6y8Wi9je3sajR48QiUQQDAZRrVbdXzI0Gg10u108evRo6nMQEZ0VK7mIiIiIiGjmGo0GgsEgms0mDMOAYRgIBoOe3Rid3VYdoVAI3W7XfXyy19ZXX32FXq831fknjT2tSeM0Gg0sLi56kmzHe+qJojiwkcakuTm+5LLb7XqqsAC4Pf6G7Ww5aWzDMJBMJt3li8OWQk6aj+OJwuXlZdi27VZqJRIJVKtV2LYNAHjz5g0kSWJ1KhFdClZyERERERHRzJmmCdu28fnzZ8/zoVBo6jFisRg0TcPCwoK7W+pVqwgyTXNsX6thuz5OmhvTNFEsFrG3twdRFHHnzh3PcblcDltbW0in0wgEAigUCu6Sv0ljf/78GT6f7/QXOoKTkHMScLIsQ1VV1Go1xONx1Go1z3JKIqKLxCQXERERERHNnNOAfdiSumkZhoFoNOo2YE+n0wNNzedNFEUcHh6e+j3j5iabzUIQBBiGAb/fD8MwPEsKRVFEoVDAxsYGCoUCFEVBo9GA3++fOLYgCKeOd5xOpwMAbiWb02PL2RQAOEpWEhFdBi5XJCIiIiKimVtcXES9XneXrZ1Fs9nE3bt3USqVoGka1tbWPJVRzr9HNTW/DIuLi3j9+rXnOoctIzz5nnFz0263sbi46C4pdBJJDme5pCiKSKfTsG3bXcY5aexwOIxarea+7vQTm5ZpmtB13X1cq9UgCIJniaUsyzAMA5VKBfF43LOz41lYlgXDMM51LxHRl4GVXER0Kp1Ox/NNDBEREZFTeeTI5/PI5XJYXl5GOp32NCGPRqNTV3etrq6iWCyiWCy6z8XjcWxubrpVS6IoIp/P48OHD1haWrr0XVWfPHmCRqMBWZbd5XmCIHgSQSdNmpt4PI5yuQzbttHtdj1Js263i3g8jkQiAVEUUa1WIUmSW0k1aez19XWkUimkUinEYjHoun6qflnO8sh6vQ6fzwdd15HNZj1jxGIx5PN5d7fJcTqdjrucsd1uo9PpeJZhAsDr169RLBahaRp3YiSisZjkIrrGbNt2m4qGQiFIknTu35SNo+s6crkc2u32hZ2DiIiIro9RCSsnAVWtVlEul93lcU5iBQAkSRroDRWNRt3nLMtCuVxGPp93G523Wi0oioLt7W13x0VN01CtVgH8qz/UpLFHOfm+acYJh8Mol8tuDCsrK24j92HvBzBxbjY3N6HrOizLwu9//3vkcjlomgafzwe/3w9VVd3E18rKiqcR/KSxnab1ThKuUChAFEU0Go2xc+Ncz8LCAhYXF933b21teRrtA0cf/0QigUajMTEpJQiCe8zxY4/PWzQaxeHh4an6uRHRl+lWv9/vzzsIouO+/fZbAMCzZ8/w4MGDOUdzdVmWhZWVFdi2jWAwiHa7jdu3b+Pdu3fuMaqqIpFIzKzyikmus/vuu+9w//59PH78eN6h0A3w6tUrvH37Fi9fvpx3KPSFu3XrFvitJF0Upw9VtVr1fC+TSCQQjUbdJBddTUtLS0gmk/w40Uw5VX/czIBGYSUX0TXllH5Xq1W3emtvb89zjKqqCAQCXF5IRERE104oFEIgEICiKO5yPKd3lKIoc46Oxmk0GrAsa+yuk0REF4FJLqJrqtPpQBRFz/JEp1S80+m4JfP1eh2maSIajSISiQA4KvV3vkn0+XyQZdkzjm3bKJfL6PV6uH37Nh49ejS0V4Nt29jZ2cG9e/fcsYmIiIhmwe/3o1qtolqtwjRNAEe9vy675xadniAIyOVy/P6QiC4dd1ckuqYikQiazSZ2dnYGXrNt2+3T0Ol0YBgGPn78CAAol8tQFMXdgUfTNM9W3LZtQ5ZlFAoFmKaJN2/eYHl5eeg5MpkM3rx5g4WFhYu4RCIiIvrCCYIAWZaRyWSQyWSY4LomJEnyfH9JRHRZWMlFdE0pioJ2u41CoQBN05DJZNwmp+FwGJqmIRQKQVEU93ngaEciWZbdHZCi0ShWVlbQarXcxqlOJZizzHHYNthPnz6FZVnY2dm50Gb3RERERERERNNgJRfRNSUIAlRVhaqq8Pv9yOVyyGQysG177PtEUXQTXLZtuxVeTmXXhw8fEA6HPX28Tu6Kk8vl0Ol0mOAiIiIiIiKiK4NJLqJrLh6Pu7se1mo1dzvnUbrdLjY2NhAKhZBKpaBpmuf1TqczcXvmw8NDmKbpJsaIiIiIiIiI5o1JLqIbYnV1FYIg4ODgYOxxhUIBrVYLhmFA13UUi0XP66Io4vDwcOwYm5ubEEUR2Wx2YuUYERERERER0WVgkovomjpZsdVsNmHbtqcKSxAEfP782XOcaZoIBoPuMsNOp+N5fXFxEbVazd3FCABqtZrnGGeppNMTjIiIiIiIiGje2Hie6JpSVRVbW1tu76xms4loNOppMh+NRvHixQscHBxAkiTIsoylpSVsb28jl8vh8PAQ+/v7nr5a6XQatVoNKysriEajaLfb+Pz5M+LxuOf8wWAQ+Xze3R76+Hlp0KdPn9But/Hjjz/OOxS6AdrtNj59+sT7ia4E3odERHRZfvrpJ/zmN0xj0Gi8O4iuKV3XUa1WYVkWgKPk1MlE1ObmJsrlMg4PD90Kr7W1NQSDQbTbbfh8Pjx79gy6riMQCAA4Wq5YLpfdsSORCBKJBAAgFAohk8m448uyzOWKU/jpp5+wv7+Pn376Ce/fv593OHQDfPr0CT///DP+/Oc/zzsUIt6HRER0aZwk188//4zf/e538w6HrqBb/X6/P+8giI779ttvAQDPnj3DgwcP5hwN0Wx89913uH//Ph4/fjzvUOgGePXqFd6+fYuXL1/OOxT6wt26dQv8VpKIiC5LPp/3/E10EntyERERERERERHRtcckFxERERERERERXXtMchERERERERER0bXHJBcREREREREREV17THIREREREREREdG1xyQXERERERERERFde0xyERERERERERHRtcckFxERERERERERXXtMchERERER0ZlYloVWqzXvMK4ty7JgGMa8w5joun2cbduGaZrzDoOI5uA38w6AiIiIiIjmo9PpwLKska8Hg0GIojjy9XK5DF3XUa/XLyK8mTEMA/v7+1hbW5t3KK6dnR0UCgUAQCqVQj6fn3NEo12Xj7OjVCpdq3iJaHaY5CIiIiIi+kLVajW8e/cOwFG1TqfTQSQSgSAIAABFURCNRucZ4kzU63WUy2U3ydXtdqFpGtLpNPx+/1xiKhaLyGazWFtbQ7fbnUsMJ12FeSEiOg8uVyQiIiIi+kKtra1B0zRomgZFUQAcJV+c525CggsAcrkcms2m+7jX60FVVfR6vbnEY5ombNvG4uIiAFyZhNK854WI6LxYyUVEREREREPZto1qter2NxJFEbIsu5VeJ5mmCV3XkUgkEAwG0e12US6XcXh4CADu82c9n2EYME0TsVgMuq6j1+thYWEByWRy7HUYhoFWq4XV1VU0m01Uq1UAgKZp8Pl8nrjGxTzs/JFIBNFo1L12AIhGo4hEIkNjOX5+XddhGAbS6TTa7TZM00QkEkGlUsHCwgJSqdTQmJxzHr++WcY1bF6cODRNA4Ch837aj/dZ5nvYeY9fYygUGns+IrrZWMlFRERERERDFQoFlEol97Gqqm7F10mmaSKdTqPZbCIQCMCyLMiyjA8fPgAAqtUqUqnU2Abmk85nGAZKpRJSqRQ+fPiAdruNjY0N7OzsjL0OwzDc5Mwwtm0DwMSYnfOvrq7i73//OwzDgKIoKBaLWFlZgWmaqNfrSKfTI6/z9u3bI2MslUpIp9PY3993Y7AsC6lUCpVKBQDQbrehKApUVR1473niGjcvwFGVlyzLaLfbQ+f9LB/vaed73MfbGaNer6PX66FQKLgJLyL6AvWJrpgHDx70Hzx40P/hhx/mHQrRzDx+/Lj/8uXLeYdBN8TLly/7jx8/nncYRH1+K3mzvH79un/37t3+x48f3eeO/7vf7/f/+te/9u/evdv/5Zdf+v1+v//999/3//SnP/V/+eWX/vLycv/Jkyf9X3/9td/v9/ubm5v95eVlz/uXl5f72Wx2ZAzTnO/u3bv9169fu8esr6/3Hz58OPbanDiPn+fktU4T87DzLy8v97/++uv+3/72t36/3+//+uuv/a+//rr//fffj73Ou3fv9t+/f++J8e7du/1Xr14NxPTHP/7RnYN+v9//y1/+0r97927/H//4x4XEdXJeppn3s3y8zzLfw857fH6ce/H4x5tujmfPnvWfPXs27zDoCuNyRSIiIiIiGioQCLj/NgzD3Ymx1+u5faRs20Ymk4EoilBV1V1a2Gg0EA6HYRiGZ7xOp3Ou8wUCAciy7B4XCoVOVZ00zjQxDzu/z+dzlw8KgoBQKOQuuTwNURSxuro6ENOjR488fbtWV1dRLBbRbDbdpX0XGdeo8Y/P+1k+3med7+PnNQzDMz9+v99d3khEXx4muYiIiIiIaKhWq4V8Pg/TNBEMBkc2JLdt222m7iS5Op0ObNvG58+fPceO6gl1mvNdlLPEPMyonmVneV+n0xlY4ugcdzLOi4prGmeZu1nMd7fbHbkElIi+PExyERERERHRUE+fPkUgEICmaRAEwW2SfpwgCNje3sby8jKePn3q9ooKBoNIJBLIZDIzPd8sHe85BZwt5os2LNnX7XYBeCvfZunkvEzjLHM3q/nmbpBE5GDjeSIiIiIiGqrT6UAURbcCaNSyQFEUUSwWUavV3Kbg0WgU5XLZTcjM8nzn5fP53PMdd5aYL1o0GsXe3p4nphcvXkAURdy7d2+m5xo1L9M4y9zNYr7D4bBnfo7vtOiwLAu6rp8peUdE1wsruYiIiIgu2c7ODnZ3d6HrOkzTRCKRQLVavbCqDKKzkmUZ1WoVtm3DsqyxyQhJkpDNZlEsFrG4uAhFUdBoNJBIJBCNRuH3+2EYBmKx2MjKndOc7zz8fj/C4TCePn0KTdOgKAqi0eiZYr5oTkyyLCMQCMC2bbTbbWxtbUEUxZmea9S8nCbO08zdLOY7m80ilUohlUpBFEV0Oh0sLi56EqR7e3soFAoIBAKQJGmqcYnoemKSi4iILoxt24hGo+4PKYIgIB6P48mTJwiHw3OOjr4E3W4Xh4eHM/9B8Lx2d3cRi8UAHC03CoVC0HX9Si2Roi9PJBJBNpv1fL7k83l88803ODg4wNLSEpLJJFRVdY+JRqOe49fW1iAIArrdLiKRCHRdR7VadZudr6+vj02anPZ8ABCLxSZ+jg97X6lUQrlcdq8dOKpIGxfzsHESicRAMm5lZQV37twZGY8oishkMm7T+FFjO8eWy2XU63WYpglRFBGNRj1J8VnFBQyfl2nmfdLcjZqH0873yfMGg0Houo5arQbg6B4SBAGNRsM9Jh6Pe66HiG6uW/1+vz/vIIiO+/bbbwEAz549w4MHD+YcDdFsfPfdd7h//z4eP34871AulWmaiMViWFtbw9LSEj5//owXL17ANE1Uq9Url3i4Ll69eoW3b9/i5cuX8w7lysvlcjBNE5qmzTsUl9NjqFqtuj/gPn/+HJVKBfV6fc7Rnc6tW7fAbyWJiOiy5PN5z99EJ7EnFxERXbiFhQVIkuT+Rr7b7WJvb2/guE6ng2azOXQM5ze83W4XhmGwr8Y1YZomLMvyPGdZ1sBz52VZFgzDOPPSJuf+Ao6SUMcfjzrXsHtwmnHq9TqCwaCngiOZTMI0TRiGcab4iYiIiIjLFYmI6JI5yyuOJwgajQY2NjY8yxpzuRxSqRSAf1W+FAoF5PN5972ZTIbLu664SqWCnZ0d1Ot1iKIIy7KQSCTcHirHdbtdtNvtoeOEQiH4/f6hr21sbKDRaCAUCsEwDGiaBkmSsLS05CbTQqEQAoHAyEqpWCyGXC6HSqXiNlyORqNQVdVtgG2aJrLZrCcRm0qlkMvl3GOmGccwjIHluoFAAH6/H61Wi/1iiIiIiM6IlVxERHSpnJ4Zzg/5lmUhk8kgnU6j3W6j3W5DURTk8/mBXbVUVUW5XEa73cba2hpUVb2wnbdoNtbX1yGKoruswGn8ezLBBQDVahXpdHron1HJqUajgVqthmq1Ck3T3CopAHj37h1kWYYkSWi32xOXAhaLRSiKgna7jUqlAsMw3F3igKOkqiAIMAwD7XYbmqZB13W3d82043Q6naEN5gOBAP75z3+OjZGIiIiIRmOSi4iILly9XoeqqigUCtjY2EAymXSbypbLZQQCAU9FViaTgSiK2N3d9YyjqqqbHMtms/D7/deuh9GXRhAE5PN51Go1FAoF7O3tYXNzc+ixqVTKTXSe/CPL8sjxbdt2k52BQODMvd6y2ax7nkgkgng87t5fhmGg1WqhWCy6FWWSJEGW5YH7dNw43W4Xtm3jq6++Gji/KIpjl0kSERER0XhMchER0YXrdDowDAM+nw9bW1vY2tpyX2u320OTEsFg0F3u5Ti5XG1hYYFJgWsgGo0imUxiZ2cHsizPdGdNJ9GkKArS6bRbKXgWw+4vZ7mjc5+dvFed7eqnHafX6wGAu3Tx5Fhn7SlGRERERExyERHRJVAUBZqmIZPJuNt4O4b9sO8Y1YPJcXh4OHErdJo/p9JKFMWxmwbouo5QKDT0z7CNChyFQgHVatWtCDy5fPCser3exHsQAHw+39TjOEmyz58/DxzHhC0RERHR+bDxPBERzdXCwgJqtRps23YTXpZlodlsIpfLeY5ttVpuLyPLstBqtbCysnLpMdPpbG9vw7ZtVCoVJBIJlEqloRsGxGIxaJo2dIxQKDT2HMFgEIVCAb1eD/V63dPzy6memuRk0/tGo+FWnTl9vgzD8DSGNwwD9+7dm3ocQcp/eNEAAAsVSURBVBDg9/uH9t4yTROLi4tTxUpEREREg5jkIiKiuUqlUiiVSlAUBYqiwLZtlEoliKI40Ifp6dOnaLfbCIVC2N7eHnoMXS3NZhPPnz+HqqoIBAJYX1/H9vY2EomEmzhy+P3+U+8sqOs6ut0uwuEwbNvG/v6+J8G1sLAAXdeh6zpu376NZDIJAJBlGYFAAKqquseWy2V0u10kEgl3d8RCoQDgqLdWOBxGLpdDNpvFnTt3UKlU0Gw2ByrHxo3jjDWsasuyLNy9e/dU109EXpZl4fPnzzNdFn0RY15ltm3DsqyhG2Qc96XNCxFdD1yuSEREF8bn80GSpLGNwEVRhK7r8Pv9yOfz2N7eRjgchq7rA0sZNzc30Wg08PTpU4iiCE3Txi53pPmrVqtYXV11l6murq5CkqRz9c46LhgM4t27d0in0ygUCkgmk1AUxX09lUohHo8jl8vhzZs37vOhUGggyZbNZgEcLa/tdrvY2tpCJBJxX9/Z2UE0GsWLFy+Qy+XQ7XZRLpcHfsCbNM4333yDZrPpWbbpPD5ZFUZ0VVmWhZ2dnZHLj+elXC4PrRS9amNeZaVSCel0euJxFzkve3t7aDQaFzI2Ed1srOQiIqIL4/f7Ry4/Oy4YDHoqakYJh8OoVCqzCI0uycklp4IgoFQqzWz8SCQydjy/3z/03jpeWXX82EKhMPQ15/V8Pj8xpknjJJNJFItFGIbh7jJar9cRCAQ8yTCiq6zRaKBQKCAej0+s+LkI3W4XmqYhnU5P1TvvKrtJ13JeTuVro9GALMvu10giommxkouIiIjoEgUCAUiShGq16j63t7c3VeUEER3p9XpQVXXqnntX2U26lvMwDAOpVArhcJgJfyI6M1ZyERHRlecse+TSRLook5bVznqcTCbjJrmcnmLHe4kRXXfOct7Dw0MA8PThMwwDpmkiFotB13X0ej0sLCy4PfMchmHAMAwcHBxgYWEBwFGfvX//9393P380TYPP5xvo8+dURznvOTn2MLquo91uw7ZtyLI8kGiZNObJa45EIp5KJOe6I5EIKpUKFhYWEA6Hx17LLOZx3BjA0aYXuq4DmLzJxzDHxw8EAm6vzFarhUajgdXVVc//33t7exAEYWC35UAgAF3XEQgEmPQnojNjJRcREV154XAYmqbNJAlBNIymaTNZFjPtOJIkuUsfnSWVTOLSTWFZFmRZxocPHwAc9eZLpVJotVoAjpIzpVIJqVQKHz58QLvdxsbGBnZ2dtwx9vb2oCgKer0efD4fNE2DYRhuouak473Ber0eZFlGu90eOvYwxWIRqqrC5/MNXWo/aUzLspBKpdwl9e12G4qieJZLO9edTqexv7/vzs+oa5nFPE4aw3m9Xq+j1+uhUCi4Ca9pOPNycHAA0zSRz+c9y7qLxaKnt5Zt23j69OnQzTcCgcBclr4S0c3CSi4iIiIiIpqZUqkEv9/v9svLZDKQZRkvXrzA1tYWgH/1XnKqfjKZDCqVClZXVwEAlUoFsiy7ff0EQXD7NAFHm5bs7OwgnU4PJEa63S5yudzIsYep1WqQZXlkI/VJY5ZKJXS7XVSrVbev1vPnz1EsFj2VU51OB7lczhPLqGuZxTxOGqNUKuH27dvY2dmB3+/H+vo6VldX0e12R87VuHlZWFhAsVhEJpNBOBxGOBzGmzdv3KqtWq0G27anqqwjIjoLVnIREREREdHMNBoNBINBd7mhYRgIBALodDruMceXtQFHy+ROVmMd5/P5pj7/pLGHcXb13dvbO9OYjUYDjx498jSOdxJNzWbTfU4UxbHJtuNmMY+TxjAMwxO33+9HLBabKr5h53eSWfv7+wCAhw8fuoktAHjz5g2i0Sgrs4nowrCSi4iIiIiIZqbT6cC2bXz+/Nnz/GmaicdiMbcK6auvvnJ3H7woz549w/b2Np4+fYpCoYBcLneqaqNOp4Pbt297nnOWIB+fh9MsS57FPE4ao9vtDsR9Hk7FmpOkfPToEYrFIqrVKmKxGBqNBjY3N2d2PiKik5jkIiIiIiKimQkGg0gkEiOX/k3DWZrYarXQarXw7NmzoUmnSRVa0/L7/cjlclhfX0ehUMDTp09x7969qSuOgsHgQPWZs+Rv2j5TJ69lFvM4zRiz3NXRqRBzrlkURUSjUc9usicbzhMRzRKXKxIRERER0cxEo1GUy+Wp+zoNc3BwAEEQoCgKFEUZSIw4yxePL907D8uyABwlu9Lp9KmTZ9FoFHt7e55rfvHiBURRxL1798a+d9S1zGIeJ40RDoc9cR/faXEapml6mutXKhUIguDZpXF5eRmNRgPlchmJROJcm2xYlgVd12eW3CSim4eVXEREREREdCrOErdsNutJWuRyOSiKgkajgUQigWg0Cr/fD8MwEIvFpq5KkmUZOzs7np0Cw+EwVFVFIBCA3+9HOBzG06dPoWkaFEU58w6ptm0jkUgg9v/bu0PfptYwDsC/3SwpBoJoE5Iq6qaGwjVAuj+AoaYW0KCGwtVV4XAIFlRd1aZGMoJDtQpUA6LJBAkkmBZTBGnvuHewkZW1Z3se06Rpvrzn9BXtL+/5vkYjlUolOzs7f7xv1OSa19fXU61WMxqN8v79+zx9+vTYdX51LbO4j8etsbW1lY2NjWxsbKRcLqff7+fGjRvT0xePU6vV0ul0sru7m8uXL6fX6+XJkyc/7U22traWK1eupNfr5fHjx79c6927d2m1Wkl+nE7Z7/ezubmZSqUy3Wh/Z2cnrVYr1Wo1N2/ePFGNwMUi5AIAAP7I2tpaXr58+b/3JwHUJPgYDAZJkocPH05DqKMCpEajMX1vMBik3W7n2bNn0wmuT58+5e7du3n+/HmazWaSHycHttvtJP/uMXXc2kcplUppt9vZ29vLt2/fpicQTpxkzXK5nHa7nVevXmUwGEwf0zv8qOLvgrOjrqVcLp/qPp5kjUlItbe3lyRpNpvTkyyPU6/Xc/369dTr9XQ6nXz9+jXNZjMrKys/fa5UKqVer6fb7f42mKpWq0eGd4dD1Ek//Mm+ZMDFsjQej8fzLgIOu3PnTpIfG4Devn17ztXAbDx48CC3bt3K/fv3510K58D29nZev36dFy9ezLsULrilpaX4KcmsvX37Npubm+l0OtPAZDQaZX19/dR7VHH2RqNRGo1G7t27l62trXmXQ8FNQu7JK/yXSS4AAGBhrK6uplar5dGjR9NJqH6/n0ql8ldPWOTvePPmzXQSD+BvE3IBAAALo1QqZXd3N71eL/1+P6PRKCsrKx5RK6hKpZJWq5VarTbvUoALQMgFAAAsnNXVVcHWOeB7BM7SP/MuAAAAAABOS8gFAAAAQOEJuQAAAAAoPCEXAAAAAIUn5AIAAACg8JyuyML58OFDkmR7ezv7+/tzrgZmo9vt5vPnz9P+htPodrv5+PFjms3mvEsBfQjAmdnf38+lS5fmXQYLzCQXC2t5WQbL+aKnmRW9xKLQiwCcpeXl5QyHw3z58mXepbCglsbj8XjeRcBhBwcHSZJr167NuRKYnYODAz3NTOkpFoE+BOAsDYfDDIfDXL16dd6lsKBMcrGQ/GDmPPEnkFnTUywCfQjAWRJwcRImuQAAAAAoPJNcAAAAABSekAsAAACAwhNyAQAAAFB4Qi4AAAAACk/IBQAAAEDhCbkAAAAAKDwhFwAAAACFJ+QCAAAAoPCEXAAAAAAUnpALAAAAgMITcgEAAABQeEIuAAAAAApPyAUAAABA4Qm5AAAAACg8IRcAAAAAhSfkAgAAAKDwhFwAAAAAFJ6QCwAAAIDC+w5buSWfdAm28gAAAABJRU5ErkJggg==)"
      ],
      "metadata": {
        "id": "ovZI7arOrAY0"
      }
    },
    {
      "cell_type": "markdown",
      "source": [
        "##All methods of list objects:"
      ],
      "metadata": {
        "id": "4ZfLvsMldlnh"
      }
    },
    {
      "cell_type": "code",
      "source": [
        "fruits = ['orange', 'apple', 'pear', 'banana', 'kiwi', 'apple', 'banana']\n",
        "print(\"fruits list : \", fruits)\n",
        "print(\"fruits.count('apple') : \", fruits.count('apple'))\n",
        "# print(\"fruits.count('tangerine') : \", fruits.count('tangerine'))\n",
        "# print(\"fruits.index('banana') : \", fruits.index('banana'))\n",
        "# print(\"fruits.index('banana', 4) : \", fruits.index('banana', 4))  # Find next banana starting a position 4\n",
        "# fruits.reverse()\n",
        "# print(\"fruits.reverse() : \", fruits)\n",
        "# fruits.append('grape')\n",
        "# print(\"fruits.append('grape'): \", fruits)\n",
        "# fruits.sort()\n",
        "# print(\"fruits.sort() : \", fruits)\n",
        "# print(\"fruits.pop()\", fruits.pop())"
      ],
      "metadata": {
        "id": "zKCxmTj_dshz"
      },
      "execution_count": null,
      "outputs": []
    },
    {
      "cell_type": "code",
      "source": [
        "squares = list(map(lambda x: x**2, range(10)))\n",
        "print(squares)"
      ],
      "metadata": {
        "id": "00OWznb4pBeH"
      },
      "execution_count": null,
      "outputs": []
    },
    {
      "cell_type": "code",
      "source": [
        "squares = [x**2 for x in range(10)]\n",
        "print(squares)"
      ],
      "metadata": {
        "id": "3iGeyhkfpNSr"
      },
      "execution_count": null,
      "outputs": []
    },
    {
      "cell_type": "code",
      "source": [
        "a = [(x, y) for x in [1,2, 3] \n",
        "     for y in [3,1,4] if x != y]\n",
        "print(a)\n",
        "\n"
      ],
      "metadata": {
        "id": "V22UOWYfpaEv"
      },
      "execution_count": null,
      "outputs": []
    },
    {
      "cell_type": "code",
      "source": [
        "a2 = []\n",
        "for x in [1,2,3]:\n",
        "  for y in [3,1,4]:\n",
        "    if x != y:\n",
        "      a2.append((x, y))\n",
        "print(a2)"
      ],
      "metadata": {
        "id": "eIwZU-84W5aZ"
      },
      "execution_count": null,
      "outputs": []
    },
    {
      "cell_type": "code",
      "source": [
        "#Using list as a stack\n",
        "\n",
        "a=['a','b','c','d','e']\n",
        "print(a)\n",
        "\n",
        "while a:\n",
        "  print(a.pop())\t\t\t\t\t# Pop a value from the stack.\n",
        "\n",
        "print(a)"
      ],
      "metadata": {
        "id": "si8htHxCsYH7"
      },
      "execution_count": null,
      "outputs": []
    },
    {
      "cell_type": "code",
      "source": [
        "#Using list as a queue\n",
        "\n",
        "a=['a','b','c','d','e']\n",
        "print(a)\n",
        "\n",
        "while a:\n",
        "  print(a.pop(0))\t\t\t\t\t# Dequeue a value from the queue.\n",
        "\n",
        "print(a)\n"
      ],
      "metadata": {
        "id": "YrFxMhkusukp"
      },
      "execution_count": null,
      "outputs": []
    },
    {
      "cell_type": "code",
      "source": [
        "# collections.deque has fast appends and pops from both ends. \n",
        "\n",
        "from collections import deque\n",
        "temp = [\"Eric\", \"John\", \"Michael\"]\n",
        "print([\"Eric\", \"John\", \"Michael\"])\n",
        "queue = deque(temp)\n",
        "print(\"queue of above list : \\n\", queue)\n",
        "queue.append(\"Terry\")           # Terry arrives\n",
        "queue.append(\"Graham\")          # Graham arrives\n",
        "print(\"queue after appending 2 items : \\n\", queue)\n",
        "queue.popleft()                 # The first to arrive now leaves\n",
        "queue.popleft()                 # The second to arrive now leaves\n",
        "print(\"queue after removing 2 items : \\n\", queue)"
      ],
      "metadata": {
        "id": "C6hu0Qv2f7bs"
      },
      "execution_count": null,
      "outputs": []
    },
    {
      "cell_type": "markdown",
      "source": [
        "**Follow practice steps on 'ex_0110.ipynb'**"
      ],
      "metadata": {
        "id": "QANQXtZVtLBo"
      }
    }
  ]
}