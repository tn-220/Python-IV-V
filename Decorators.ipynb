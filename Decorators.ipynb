{
  "nbformat": 4,
  "nbformat_minor": 0,
  "metadata": {
    "colab": {
      "provenance": [],
      "authorship_tag": "ABX9TyMysuW8E9ip/mMUN9OjS7S8",
      "include_colab_link": true
    },
    "kernelspec": {
      "name": "python3",
      "display_name": "Python 3"
    },
    "language_info": {
      "name": "python"
    }
  },
  "cells": [
    {
      "cell_type": "markdown",
      "metadata": {
        "id": "view-in-github",
        "colab_type": "text"
      },
      "source": [
        "<a href=\"https://colab.research.google.com/github/tn-220/Python-IV-V/blob/main/Decorators.ipynb\" target=\"_parent\"><img src=\"https://colab.research.google.com/assets/colab-badge.svg\" alt=\"Open In Colab\"/></a>"
      ]
    },
    {
      "cell_type": "code",
      "execution_count": null,
      "metadata": {
        "id": "kBy8y2KMS3at"
      },
      "outputs": [],
      "source": [
        "def sum(number):\n",
        "    total = 0\n",
        "    for x in range(1, number + 1):\n",
        "      print(x, end=\" \")\n",
        "      total += x\n",
        "    print()\n",
        "    return total\n",
        "\n",
        "print(sum(5))"
      ]
    },
    {
      "cell_type": "code",
      "source": [
        "def sum2(number, myFunction):   # Pass refrence of a function as a parameter ---without ()---\n",
        "    total = 0\n",
        "    for x in range(1, number + 1):\n",
        "      print(myFunction(x), end=\" \")\n",
        "      total += myFunction(x)\n",
        "    print()\n",
        "    return total\n",
        "\n",
        "\n",
        "def square(n):\n",
        "  return n*n\n",
        "\n",
        "\n",
        "print(sum2(5, square))"
      ],
      "metadata": {
        "id": "Y4OWFTubTqds"
      },
      "execution_count": null,
      "outputs": []
    },
    {
      "cell_type": "code",
      "source": [
        "from random import choice\n",
        "\n",
        "def greet(person):      # define a function inside a function\n",
        "    def get_message():\n",
        "        msg = choice(('Hello there ', 'Good morning ', 'Good evening ', 'Good afternoon ', 'Goodbye '))\n",
        "        return msg\n",
        "    result = get_message() + person\n",
        "    return result\n",
        "\n",
        "print(greet(\"Sara\"))"
      ],
      "metadata": {
        "id": "poXiWN5cVyFn"
      },
      "execution_count": null,
      "outputs": []
    },
    {
      "cell_type": "code",
      "source": [
        "def greet2(person):\n",
        "    def get_message():\n",
        "        msg = choice(('Hello there ', 'Good morning ', 'Good evening ', 'Good afternoon ', 'Goodbye ')) + person\n",
        "        return msg\n",
        "    return get_message  # Return a function \n",
        "\n",
        "result = greet2(\"Luis\")\n",
        "print(type(result))\n",
        "print(result())"
      ],
      "metadata": {
        "id": "kJa-S_C9XXyn"
      },
      "execution_count": null,
      "outputs": []
    },
    {
      "cell_type": "code",
      "source": [
        "def my_decorator(func):\n",
        "    def say_bye():\n",
        "        func()\n",
        "        print(\"........Bye\")\n",
        "    return say_bye\n",
        "\n",
        "\n",
        "def say_hello():\n",
        "    print(\"Hello......\")\n",
        "\n",
        "sayHelloByDecorator = my_decorator(say_hello)\n",
        "sayHelloByDecorator()\n",
        "\n",
        "#say_hello()"
      ],
      "metadata": {
        "id": "dNsy7GGTZKSI"
      },
      "execution_count": null,
      "outputs": []
    },
    {
      "cell_type": "code",
      "source": [
        "def my_decorator(func):\n",
        "    def say_bye():\n",
        "        func()\n",
        "        print(\"........Bye\")\n",
        "    return say_bye\n",
        "\n",
        "@my_decorator\n",
        "def say_hello():\n",
        "    print(\"Hello......\")\n",
        "\n",
        "\n",
        "say_hello()"
      ],
      "metadata": {
        "id": "uttNWqoCh_Dg"
      },
      "execution_count": null,
      "outputs": []
    },
    {
      "cell_type": "code",
      "source": [
        "def my_decorator(func):\n",
        "    def say_bye(n):\n",
        "        func(n)\n",
        "        print(f\"Bye {n}\")\n",
        "    return say_bye\n",
        "\n",
        "@my_decorator\n",
        "def say_hello(name):\n",
        "    print(f\"Hello {name}\")\n",
        "\n",
        "\n",
        "say_hello(\"Sam\")"
      ],
      "metadata": {
        "id": "dyKp5Np3iY3w"
      },
      "execution_count": null,
      "outputs": []
    },
    {
      "cell_type": "code",
      "source": [
        "def my_decorator(func):\n",
        "    def say_bye(*args, **kwargs):\n",
        "        func(*args, **kwargs)\n",
        "        print(\"Bye!!\\n\")\n",
        "    return say_bye\n",
        "\n",
        "\n",
        "@my_decorator\n",
        "def say_hello(name):\n",
        "    print(f\"Hello {name}\")\n",
        "\n",
        "\n",
        "@my_decorator\n",
        "def say_my_name(name, family):\n",
        "    print(f\"Hello {name} {family}\")\n",
        "\n",
        "say_hello(\"Sara\")\n",
        "say_my_name(\"Sara\", \"Smith\")"
      ],
      "metadata": {
        "id": "n0-06ys5jQBl"
      },
      "execution_count": null,
      "outputs": []
    }
  ]
}